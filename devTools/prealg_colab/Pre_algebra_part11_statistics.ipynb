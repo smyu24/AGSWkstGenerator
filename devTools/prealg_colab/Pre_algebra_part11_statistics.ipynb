{
  "nbformat": 4,
  "nbformat_minor": 0,
  "metadata": {
    "colab": {
      "provenance": []
    },
    "kernelspec": {
      "name": "python3",
      "display_name": "Python 3"
    },
    "language_info": {
      "name": "python"
    }
  },
  "cells": [
    {
      "cell_type": "markdown",
      "metadata": {
        "id": "sbyoJydbh2-0"
      },
      "source": [
        "#11 Statistics\n",
        "\n"
      ]
    },
    {
      "cell_type": "markdown",
      "metadata": {
        "id": "N6hCtbq94Xld"
      },
      "source": [
        "## Visualising Data\n"
      ]
    },
    {
      "cell_type": "code",
      "metadata": {
        "colab": {
          "base_uri": "https://localhost:8080/"
        },
        "id": "AFUOjQ2yAYrq",
        "outputId": "b880bf56-4782-4d4e-fe65-4cd8e74b49dc"
      },
      "source": [
        "!pip install names"
      ],
      "execution_count": null,
      "outputs": [
        {
          "output_type": "stream",
          "name": "stdout",
          "text": [
            "Collecting names\n",
            "  Downloading names-0.3.0.tar.gz (789 kB)\n",
            "\u001b[?25l\r\u001b[K     |▍                               | 10 kB 20.3 MB/s eta 0:00:01\r\u001b[K     |▉                               | 20 kB 22.4 MB/s eta 0:00:01\r\u001b[K     |█▎                              | 30 kB 16.1 MB/s eta 0:00:01\r\u001b[K     |█▋                              | 40 kB 10.6 MB/s eta 0:00:01\r\u001b[K     |██                              | 51 kB 6.0 MB/s eta 0:00:01\r\u001b[K     |██▌                             | 61 kB 6.4 MB/s eta 0:00:01\r\u001b[K     |███                             | 71 kB 5.4 MB/s eta 0:00:01\r\u001b[K     |███▎                            | 81 kB 6.0 MB/s eta 0:00:01\r\u001b[K     |███▊                            | 92 kB 6.0 MB/s eta 0:00:01\r\u001b[K     |████▏                           | 102 kB 5.5 MB/s eta 0:00:01\r\u001b[K     |████▋                           | 112 kB 5.5 MB/s eta 0:00:01\r\u001b[K     |█████                           | 122 kB 5.5 MB/s eta 0:00:01\r\u001b[K     |█████▍                          | 133 kB 5.5 MB/s eta 0:00:01\r\u001b[K     |█████▉                          | 143 kB 5.5 MB/s eta 0:00:01\r\u001b[K     |██████▎                         | 153 kB 5.5 MB/s eta 0:00:01\r\u001b[K     |██████▋                         | 163 kB 5.5 MB/s eta 0:00:01\r\u001b[K     |███████                         | 174 kB 5.5 MB/s eta 0:00:01\r\u001b[K     |███████▌                        | 184 kB 5.5 MB/s eta 0:00:01\r\u001b[K     |████████                        | 194 kB 5.5 MB/s eta 0:00:01\r\u001b[K     |████████▎                       | 204 kB 5.5 MB/s eta 0:00:01\r\u001b[K     |████████▊                       | 215 kB 5.5 MB/s eta 0:00:01\r\u001b[K     |█████████▏                      | 225 kB 5.5 MB/s eta 0:00:01\r\u001b[K     |█████████▌                      | 235 kB 5.5 MB/s eta 0:00:01\r\u001b[K     |██████████                      | 245 kB 5.5 MB/s eta 0:00:01\r\u001b[K     |██████████▍                     | 256 kB 5.5 MB/s eta 0:00:01\r\u001b[K     |██████████▉                     | 266 kB 5.5 MB/s eta 0:00:01\r\u001b[K     |███████████▏                    | 276 kB 5.5 MB/s eta 0:00:01\r\u001b[K     |███████████▋                    | 286 kB 5.5 MB/s eta 0:00:01\r\u001b[K     |████████████                    | 296 kB 5.5 MB/s eta 0:00:01\r\u001b[K     |████████████▌                   | 307 kB 5.5 MB/s eta 0:00:01\r\u001b[K     |████████████▉                   | 317 kB 5.5 MB/s eta 0:00:01\r\u001b[K     |█████████████▎                  | 327 kB 5.5 MB/s eta 0:00:01\r\u001b[K     |█████████████▊                  | 337 kB 5.5 MB/s eta 0:00:01\r\u001b[K     |██████████████▏                 | 348 kB 5.5 MB/s eta 0:00:01\r\u001b[K     |██████████████▌                 | 358 kB 5.5 MB/s eta 0:00:01\r\u001b[K     |███████████████                 | 368 kB 5.5 MB/s eta 0:00:01\r\u001b[K     |███████████████▍                | 378 kB 5.5 MB/s eta 0:00:01\r\u001b[K     |███████████████▉                | 389 kB 5.5 MB/s eta 0:00:01\r\u001b[K     |████████████████▏               | 399 kB 5.5 MB/s eta 0:00:01\r\u001b[K     |████████████████▋               | 409 kB 5.5 MB/s eta 0:00:01\r\u001b[K     |█████████████████               | 419 kB 5.5 MB/s eta 0:00:01\r\u001b[K     |█████████████████▍              | 430 kB 5.5 MB/s eta 0:00:01\r\u001b[K     |█████████████████▉              | 440 kB 5.5 MB/s eta 0:00:01\r\u001b[K     |██████████████████▎             | 450 kB 5.5 MB/s eta 0:00:01\r\u001b[K     |██████████████████▊             | 460 kB 5.5 MB/s eta 0:00:01\r\u001b[K     |███████████████████             | 471 kB 5.5 MB/s eta 0:00:01\r\u001b[K     |███████████████████▌            | 481 kB 5.5 MB/s eta 0:00:01\r\u001b[K     |████████████████████            | 491 kB 5.5 MB/s eta 0:00:01\r\u001b[K     |████████████████████▍           | 501 kB 5.5 MB/s eta 0:00:01\r\u001b[K     |████████████████████▊           | 512 kB 5.5 MB/s eta 0:00:01\r\u001b[K     |█████████████████████▏          | 522 kB 5.5 MB/s eta 0:00:01\r\u001b[K     |█████████████████████▋          | 532 kB 5.5 MB/s eta 0:00:01\r\u001b[K     |██████████████████████          | 542 kB 5.5 MB/s eta 0:00:01\r\u001b[K     |██████████████████████▍         | 552 kB 5.5 MB/s eta 0:00:01\r\u001b[K     |██████████████████████▉         | 563 kB 5.5 MB/s eta 0:00:01\r\u001b[K     |███████████████████████▎        | 573 kB 5.5 MB/s eta 0:00:01\r\u001b[K     |███████████████████████▊        | 583 kB 5.5 MB/s eta 0:00:01\r\u001b[K     |████████████████████████        | 593 kB 5.5 MB/s eta 0:00:01\r\u001b[K     |████████████████████████▌       | 604 kB 5.5 MB/s eta 0:00:01\r\u001b[K     |█████████████████████████       | 614 kB 5.5 MB/s eta 0:00:01\r\u001b[K     |█████████████████████████▎      | 624 kB 5.5 MB/s eta 0:00:01\r\u001b[K     |█████████████████████████▊      | 634 kB 5.5 MB/s eta 0:00:01\r\u001b[K     |██████████████████████████▏     | 645 kB 5.5 MB/s eta 0:00:01\r\u001b[K     |██████████████████████████▋     | 655 kB 5.5 MB/s eta 0:00:01\r\u001b[K     |███████████████████████████     | 665 kB 5.5 MB/s eta 0:00:01\r\u001b[K     |███████████████████████████▍    | 675 kB 5.5 MB/s eta 0:00:01\r\u001b[K     |███████████████████████████▉    | 686 kB 5.5 MB/s eta 0:00:01\r\u001b[K     |████████████████████████████▎   | 696 kB 5.5 MB/s eta 0:00:01\r\u001b[K     |████████████████████████████▋   | 706 kB 5.5 MB/s eta 0:00:01\r\u001b[K     |█████████████████████████████   | 716 kB 5.5 MB/s eta 0:00:01\r\u001b[K     |█████████████████████████████▌  | 727 kB 5.5 MB/s eta 0:00:01\r\u001b[K     |██████████████████████████████  | 737 kB 5.5 MB/s eta 0:00:01\r\u001b[K     |██████████████████████████████▎ | 747 kB 5.5 MB/s eta 0:00:01\r\u001b[K     |██████████████████████████████▊ | 757 kB 5.5 MB/s eta 0:00:01\r\u001b[K     |███████████████████████████████▏| 768 kB 5.5 MB/s eta 0:00:01\r\u001b[K     |███████████████████████████████▋| 778 kB 5.5 MB/s eta 0:00:01\r\u001b[K     |████████████████████████████████| 788 kB 5.5 MB/s eta 0:00:01\r\u001b[K     |████████████████████████████████| 789 kB 5.5 MB/s \n",
            "\u001b[?25hBuilding wheels for collected packages: names\n",
            "  Building wheel for names (setup.py) ... \u001b[?25l\u001b[?25hdone\n",
            "  Created wheel for names: filename=names-0.3.0-py3-none-any.whl size=803698 sha256=52c16c19cf21e26df846bb60f31f8d087958ec7591f120fe89f1121d04dee087\n",
            "  Stored in directory: /root/.cache/pip/wheels/05/ea/68/92f6b0669e478af9b7c3c524520d03050089e034edcc775c2b\n",
            "Successfully built names\n",
            "Installing collected packages: names\n",
            "Successfully installed names-0.3.0\n"
          ]
        }
      ]
    },
    {
      "cell_type": "code",
      "metadata": {
        "colab": {
          "base_uri": "https://localhost:8080/"
        },
        "id": "ySNfqAwaAbNq",
        "outputId": "d4789b7a-7460-4621-8898-3efa6a8b466b"
      },
      "source": [
        "import names\n",
        "for i in range(200):\n",
        "  print(\"'\"+names.get_full_name()+\"'\"+\",\",end=\"\")"
      ],
      "execution_count": null,
      "outputs": [
        {
          "output_type": "stream",
          "name": "stdout",
          "text": [
            "'Casey Cryderman','Charlotte Moll','Johnna Sizemore','Alissa Mccarthy','William Carter','James Morehouse','Anna Chang','Amanda Harley','Linda Collins','Charles Francis','Mary Bowman','Debbie Bell','Edna Johnson','Matthew Anderson','Melinda Sylla','Amanda Sylvester','Diane Abrego','Tim Moore','Willian Sampson','Carol Soriano','Brian Harris','Robert Brady','Louis Jones','Walter Thorpe','Dale Holmes','Tiffani Wilson','Rubin Hughes','Gary Oneill','Gary Bracey','Larry Bockelman','Terri Myers','Josephine Neely','Samuel Heckard','Douglas Wells','Dennis Galvan','Annie Flores','Mark Zurcher','Summer Mcglothian','Loren Gingrich','Charles Damon','William Garcia','Douglas Guevara','Tammy Williams','Alesha Lipscomb','Sylvia Harris','Aaron Garcia','Linda Matthews','Minerva Lowe','Debbie Bittner','Milton Moniz','Carol Degraffenreid','Esta Decker','Esther Baudino','Rita Primavera','Bryan Johnson','James Gardner','Lee Doyle','Sarah Call','Belinda Gonzalez','Robert Rubinstein','Lauren Thomas','Cynthia Hamons','Gloria Foshee','Thaddeus Martin','Phyllis Conger','Joseph Yale','Fredrick Padillo','Phyllis Gibbs','Dwight Dyer','Arthur Ryan','Charles Heiman','Cheryl Rains','Kimberly Brooks','Angel Pickel','Mary Pies','Kathryn Silva','James Baldwin','Flora Moore','Kelvin Muller','Roberta Walker','Deborah Cressman','Donna Morgan','Sarah Martin','Shelly Unnasch','Jerry Knowlton','Patty Asquith','Richard Dickow','Georgia Johnson','Efrain Cote','Isaac Brown','Holly Smith','Regina Smith','Jason Ortiz','Edward Guthrie','Michelle Lanehart','William Curles','Christopher Borkowski','Maria Buell','Julie Gardner','William Hervey','Dorothy Watson','Vivian Ahn','Edward Price','Kevin Hannah','William Richard','Elizabeth Parker','Norman Klingbeil','Victoria Riley','Nancy Tam','Yolanda Carter','Benito Birkeland','Sara Magana','Lillie Williams','Velia Mcghee','Marie Long','Wendy Knapp','Michael Cornish','Annie Chance','Robert Patch','Cindy Wells','Cecile Elliott','Kimberly Schneider','Melissa Cross','Danielle Mccoy','Jack Hetrick','Ruby Barlowe','Kathleen Wyble','Erika Streller','Terry Fowler','John Yoder','Herbert Perkins','Sandra Dalton','Raul Woods','Scott Tam','Carol Scott','John Kennison','Jose Dobbs','Ida Samuels','Archie Rankin','Dianne Sanchez','Russell Guthrie','Elizabeth Taylor','Darryl Merrifield','Tony Bridges','Steven Stanley','Jose Levine','Cathy Pagan','Misty Reid','Isabelle Cortez','Barbara Scott','Edward Marek','James Boucher','Paul Greenwald','Lillian Brown','Paul Lambert','Willard Anderson','Kenneth Brooks','Kimberly Hernandez','Gabriel Auckerman','Seth Somerville','Laura Johnston','Johnnie Buck','Doris Haymes','Mike Bobo','Dennis Harrison','Melissa Horn','Mary Craig','Virginia Lund','Jeffrey Tate','Fred Hill','Shelia Hailey','Lori Caldwell','Nadia Martinez','Lucas Ingram','George Staley','James Wright','Glen Pointer','Benjamin Mcglone','Michele Keeler','Henry Turja','Kellye Ellis','Doreen Nichols','Miguel Van','Veda Barger','Margaret Wilks','Charles Ruelas','Donald Shin','Vincent Segovia','Rodrigo Robinson','Barbara Orta','Lillia Gould','Joyce Clifton','Deborah Grogan','William Beckem','Leonard Greany','Jeremiah Graham','Jon Ruffin','Nancy Crowder','Michelle Wooden','Shawn Riles',"
          ]
        }
      ]
    },
    {
      "cell_type": "code",
      "metadata": {
        "colab": {
          "base_uri": "https://localhost:8080/"
        },
        "id": "Nq4i4d6TD4Dc",
        "outputId": "5ad97fec-d57f-46cf-b5cd-759f49b2935e"
      },
      "source": [
        "!pip install sportsipy"
      ],
      "execution_count": null,
      "outputs": [
        {
          "output_type": "stream",
          "name": "stdout",
          "text": [
            "Collecting sportsipy\n",
            "  Downloading sportsipy-0.6.0-py3-none-any.whl (499 kB)\n",
            "\u001b[?25l\r\u001b[K     |▋                               | 10 kB 25.0 MB/s eta 0:00:01\r\u001b[K     |█▎                              | 20 kB 30.5 MB/s eta 0:00:01\r\u001b[K     |██                              | 30 kB 16.1 MB/s eta 0:00:01\r\u001b[K     |██▋                             | 40 kB 10.9 MB/s eta 0:00:01\r\u001b[K     |███▎                            | 51 kB 5.0 MB/s eta 0:00:01\r\u001b[K     |████                            | 61 kB 5.5 MB/s eta 0:00:01\r\u001b[K     |████▋                           | 71 kB 5.6 MB/s eta 0:00:01\r\u001b[K     |█████▎                          | 81 kB 6.2 MB/s eta 0:00:01\r\u001b[K     |██████                          | 92 kB 6.5 MB/s eta 0:00:01\r\u001b[K     |██████▌                         | 102 kB 5.2 MB/s eta 0:00:01\r\u001b[K     |███████▏                        | 112 kB 5.2 MB/s eta 0:00:01\r\u001b[K     |███████▉                        | 122 kB 5.2 MB/s eta 0:00:01\r\u001b[K     |████████▌                       | 133 kB 5.2 MB/s eta 0:00:01\r\u001b[K     |█████████▏                      | 143 kB 5.2 MB/s eta 0:00:01\r\u001b[K     |█████████▉                      | 153 kB 5.2 MB/s eta 0:00:01\r\u001b[K     |██████████▌                     | 163 kB 5.2 MB/s eta 0:00:01\r\u001b[K     |███████████▏                    | 174 kB 5.2 MB/s eta 0:00:01\r\u001b[K     |███████████▉                    | 184 kB 5.2 MB/s eta 0:00:01\r\u001b[K     |████████████▌                   | 194 kB 5.2 MB/s eta 0:00:01\r\u001b[K     |█████████████                   | 204 kB 5.2 MB/s eta 0:00:01\r\u001b[K     |█████████████▊                  | 215 kB 5.2 MB/s eta 0:00:01\r\u001b[K     |██████████████▍                 | 225 kB 5.2 MB/s eta 0:00:01\r\u001b[K     |███████████████                 | 235 kB 5.2 MB/s eta 0:00:01\r\u001b[K     |███████████████▊                | 245 kB 5.2 MB/s eta 0:00:01\r\u001b[K     |████████████████▍               | 256 kB 5.2 MB/s eta 0:00:01\r\u001b[K     |█████████████████               | 266 kB 5.2 MB/s eta 0:00:01\r\u001b[K     |█████████████████▊              | 276 kB 5.2 MB/s eta 0:00:01\r\u001b[K     |██████████████████▍             | 286 kB 5.2 MB/s eta 0:00:01\r\u001b[K     |███████████████████             | 296 kB 5.2 MB/s eta 0:00:01\r\u001b[K     |███████████████████▋            | 307 kB 5.2 MB/s eta 0:00:01\r\u001b[K     |████████████████████▎           | 317 kB 5.2 MB/s eta 0:00:01\r\u001b[K     |█████████████████████           | 327 kB 5.2 MB/s eta 0:00:01\r\u001b[K     |█████████████████████▋          | 337 kB 5.2 MB/s eta 0:00:01\r\u001b[K     |██████████████████████▎         | 348 kB 5.2 MB/s eta 0:00:01\r\u001b[K     |███████████████████████         | 358 kB 5.2 MB/s eta 0:00:01\r\u001b[K     |███████████████████████▋        | 368 kB 5.2 MB/s eta 0:00:01\r\u001b[K     |████████████████████████▎       | 378 kB 5.2 MB/s eta 0:00:01\r\u001b[K     |█████████████████████████       | 389 kB 5.2 MB/s eta 0:00:01\r\u001b[K     |█████████████████████████▋      | 399 kB 5.2 MB/s eta 0:00:01\r\u001b[K     |██████████████████████████▏     | 409 kB 5.2 MB/s eta 0:00:01\r\u001b[K     |██████████████████████████▉     | 419 kB 5.2 MB/s eta 0:00:01\r\u001b[K     |███████████████████████████▌    | 430 kB 5.2 MB/s eta 0:00:01\r\u001b[K     |████████████████████████████▏   | 440 kB 5.2 MB/s eta 0:00:01\r\u001b[K     |████████████████████████████▉   | 450 kB 5.2 MB/s eta 0:00:01\r\u001b[K     |█████████████████████████████▌  | 460 kB 5.2 MB/s eta 0:00:01\r\u001b[K     |██████████████████████████████▏ | 471 kB 5.2 MB/s eta 0:00:01\r\u001b[K     |██████████████████████████████▉ | 481 kB 5.2 MB/s eta 0:00:01\r\u001b[K     |███████████████████████████████▌| 491 kB 5.2 MB/s eta 0:00:01\r\u001b[K     |████████████████████████████████| 499 kB 5.2 MB/s \n",
            "\u001b[?25hCollecting pyquery>=1.4.0\n",
            "  Downloading pyquery-1.4.3-py3-none-any.whl (22 kB)\n",
            "Requirement already satisfied: pandas>=0.24.1 in /usr/local/lib/python3.7/dist-packages (from sportsipy) (1.1.5)\n",
            "Requirement already satisfied: requests>=2.18.4 in /usr/local/lib/python3.7/dist-packages (from sportsipy) (2.23.0)\n",
            "Requirement already satisfied: numpy>=1.15.4 in /usr/local/lib/python3.7/dist-packages (from pandas>=0.24.1->sportsipy) (1.19.5)\n",
            "Requirement already satisfied: python-dateutil>=2.7.3 in /usr/local/lib/python3.7/dist-packages (from pandas>=0.24.1->sportsipy) (2.8.2)\n",
            "Requirement already satisfied: pytz>=2017.2 in /usr/local/lib/python3.7/dist-packages (from pandas>=0.24.1->sportsipy) (2018.9)\n",
            "Collecting cssselect>0.7.9\n",
            "  Downloading cssselect-1.1.0-py2.py3-none-any.whl (16 kB)\n",
            "Requirement already satisfied: lxml>=2.1 in /usr/local/lib/python3.7/dist-packages (from pyquery>=1.4.0->sportsipy) (4.2.6)\n",
            "Requirement already satisfied: six>=1.5 in /usr/local/lib/python3.7/dist-packages (from python-dateutil>=2.7.3->pandas>=0.24.1->sportsipy) (1.15.0)\n",
            "Requirement already satisfied: idna<3,>=2.5 in /usr/local/lib/python3.7/dist-packages (from requests>=2.18.4->sportsipy) (2.10)\n",
            "Requirement already satisfied: urllib3!=1.25.0,!=1.25.1,<1.26,>=1.21.1 in /usr/local/lib/python3.7/dist-packages (from requests>=2.18.4->sportsipy) (1.24.3)\n",
            "Requirement already satisfied: chardet<4,>=3.0.2 in /usr/local/lib/python3.7/dist-packages (from requests>=2.18.4->sportsipy) (3.0.4)\n",
            "Requirement already satisfied: certifi>=2017.4.17 in /usr/local/lib/python3.7/dist-packages (from requests>=2.18.4->sportsipy) (2021.5.30)\n",
            "Installing collected packages: cssselect, pyquery, sportsipy\n",
            "Successfully installed cssselect-1.1.0 pyquery-1.4.3 sportsipy-0.6.0\n"
          ]
        }
      ]
    },
    {
      "cell_type": "code",
      "metadata": {
        "colab": {
          "base_uri": "https://localhost:8080/"
        },
        "id": "MykbG90VEQ5C",
        "outputId": "af47d9b0-4522-4aa1-b84c-bd1f13cf71af"
      },
      "source": [
        "from sportsipy.ncaab.schedule import Schedule\n",
        "\n",
        "purdue_schedule = Schedule('purdue')\n",
        "for game in purdue_schedule:\n",
        "    print(game.date)"
      ],
      "execution_count": null,
      "outputs": [
        {
          "output_type": "stream",
          "name": "stdout",
          "text": [
            "Wed, Nov 25, 2020\n",
            "Thu, Nov 26, 2020\n",
            "Tue, Dec 1, 2020\n",
            "Fri, Dec 4, 2020\n",
            "Tue, Dec 8, 2020\n",
            "Sat, Dec 12, 2020\n",
            "Wed, Dec 16, 2020\n",
            "Sat, Dec 19, 2020\n",
            "Tue, Dec 22, 2020\n",
            "Fri, Dec 25, 2020\n",
            "Tue, Dec 29, 2020\n",
            "Sat, Jan 2, 2021\n",
            "Fri, Jan 8, 2021\n",
            "Thu, Jan 14, 2021\n",
            "Sun, Jan 17, 2021\n",
            "Tue, Jan 19, 2021\n",
            "Fri, Jan 22, 2021\n",
            "Sat, Jan 30, 2021\n",
            "Tue, Feb 2, 2021\n",
            "Sat, Feb 6, 2021\n",
            "Thu, Feb 11, 2021\n",
            "Tue, Feb 16, 2021\n",
            "Sat, Feb 20, 2021\n",
            "Fri, Feb 26, 2021\n",
            "Tue, Mar 2, 2021\n",
            "Sat, Mar 6, 2021\n",
            "Fri, Mar 12, 2021\n",
            "Fri, Mar 19, 2021\n"
          ]
        }
      ]
    },
    {
      "cell_type": "code",
      "metadata": {
        "colab": {
          "base_uri": "https://localhost:8080/",
          "height": 164
        },
        "id": "3D2Gc0q2elCW",
        "outputId": "96c2afdc-eee3-455b-8e04-f6f119cf3311"
      },
      "source": [
        "datacommons_pandas.build_time_series_dataframe([\"country/SSD\",\"country/SDN\"], \"Count_Person\")"
      ],
      "execution_count": null,
      "outputs": [
        {
          "output_type": "error",
          "ename": "NameError",
          "evalue": "ignored",
          "traceback": [
            "\u001b[0;31m---------------------------------------------------------------------------\u001b[0m",
            "\u001b[0;31mNameError\u001b[0m                                 Traceback (most recent call last)",
            "\u001b[0;32m<ipython-input-7-8338cef977a9>\u001b[0m in \u001b[0;36m<module>\u001b[0;34m()\u001b[0m\n\u001b[0;32m----> 1\u001b[0;31m \u001b[0mdatacommons_pandas\u001b[0m\u001b[0;34m.\u001b[0m\u001b[0mbuild_time_series_dataframe\u001b[0m\u001b[0;34m(\u001b[0m\u001b[0;34m[\u001b[0m\u001b[0;34m\"country/SSD\"\u001b[0m\u001b[0;34m,\u001b[0m\u001b[0;34m\"country/SDN\"\u001b[0m\u001b[0;34m]\u001b[0m\u001b[0;34m,\u001b[0m \u001b[0;34m\"Count_Person\"\u001b[0m\u001b[0;34m)\u001b[0m\u001b[0;34m\u001b[0m\u001b[0;34m\u001b[0m\u001b[0m\n\u001b[0m",
            "\u001b[0;31mNameError\u001b[0m: name 'datacommons_pandas' is not defined"
          ]
        }
      ]
    },
    {
      "cell_type": "markdown",
      "metadata": {
        "id": "79W8l4xAek2Q"
      },
      "source": []
    },
    {
      "cell_type": "markdown",
      "metadata": {
        "id": "l1-zQzvqnnHV"
      },
      "source": [
        "**Unemployment Rate**\n",
        "[BLS](https://data.bls.gov/timeseries/LNS14000000?amp%253bdata_tool=XGtable&output_view=data&include_graphs=true)\n",
        "\n",
        "| Year | Jan | Feb | Mar | Apr | May | Jun | Jul | Aug | Sep | Oct | Nov | Dec |\n",
        "| :--- | ---: | ---: | ---: | ---: | ---: | ---: | ---: | ---: | ---: | ---: | ---: | ---: |\n",
        "| 2011 | 9.1 | 9.0 | 9.0 | 9.1 | 9.0 | 9.1 | 9.0 | 9.0 | 9.0 | 8.8 | 8.6 | 8.5 |\n",
        "| 2012 | 8.3 | 8.3 | 8.2 | 8.2 | 8.2 | 8.2 | 8.2 | 8.1 | 7.8 | 7.8 | 7.7 | 7.9 |\n",
        "| 2013 | 8.0 | 7.7 | 7.5 | 7.6 | 7.5 | 7.5 | 7.3 | 7.2 | 7.2 | 7.2 | 6.9 | 6.7 |\n",
        "| 2014 | 6.6 | 6.7 | 6.7 | 6.2 | 6.3 | 6.1 | 6.2 | 6.1 | 5.9 | 5.7 | 5.8 | 5.6 |\n",
        "| 2015 | 5.7 | 5.5 | 5.4 | 5.4 | 5.6 | 5.3 | 5.2 | 5.1 | 5.0 | 5.0 | 5.1 | 5.0 |\n",
        "| 2016 | 4.8 | 4.9 | 5.0 | 5.1 | 4.8 | 4.9 | 4.8 | 4.9 | 5.0 | 4.9 | 4.7 | 4.7 |\n",
        "| 2017 | 4.7 | 4.6 | 4.4 | 4.5 | 4.4 | 4.3 | 4.3 | 4.4 | 4.2 | 4.1 | 4.2 | 4.1 |\n",
        "| 2018 | 4.0 | 4.1 | 4.0 | 4.0 | 3.8 | 4.0 | 3.8 | 3.8 | 3.7 | 3.8 | 3.8 | 3.9 |\n",
        "| 2019 | 4.0 | 3.8 | 3.8 | 3.7 | 3.7 | 3.6 | 3.6 | 3.7 | 3.5 | 3.6 | 3.6 | 3.6 |\n",
        "| 2020 | 3.5 | 3.5 | 4.4 | 14.8 | 13.3 | 11.1 | 10.2 | 8.4 | 7.8 | 6.9 | 6.7 | 6.7 |\n",
        "| 2021 | 6.3 | 6.2 | 6.0 | 6.1 | 5.8 | 5.9 | 5.4 | 5.2 |  |  |  |  |"
      ]
    },
    {
      "cell_type": "code",
      "metadata": {
        "colab": {
          "base_uri": "https://localhost:8080/",
          "height": 131
        },
        "id": "XcKMYJG1nnaa",
        "outputId": "d52b5482-5757-4dbf-f9d2-dfcf17263592"
      },
      "source": [
        "\\begin{array}{|l|r|r|r|r|r|r|r|r|r|r|r|r|}\n",
        "\\hline \\text { Year } & \\text { Jan } & \\text { Feb } & \\text { Mar } & \\text { Apr } & \\text { May } & \\text { Jun } & \\text { Jul } & \\text { Aug } & \\text { Sep } & \\text { Oct } & \\text { Nov } & \\text { Dec } \\\\\n",
        "\\hline \\mathbf{2 0 1 1} & 9.1 & 9.0 & 9.0 & 9.1 & 9.0 & 9.1 & 9.0 & 9.0 & 9.0 & 8.8 & 8.6 & 8.5 \\\\\n",
        "\\hline \\mathbf{2 0 1 2} & 8.3 & 8.3 & 8.2 & 8.2 & 8.2 & 8.2 & 8.2 & 8.1 & 7.8 & 7.8 & 7.7 & 7.9 \\\\\n",
        "\\hline \\mathbf{2 0 1 3} & 8.0 & 7.7 & 7.5 & 7.6 & 7.5 & 7.5 & 7.3 & 7.2 & 7.2 & 7.2 & 6.9 & 6.7 \\\\\n",
        "\\hline \\mathbf{2 0 1 4} & 6.6 & 6.7 & 6.7 & 6.2 & 6.3 & 6.1 & 6.2 & 6.1 & 5.9 & 5.7 & 5.8 & 5.6 \\\\\n",
        "\\hline \\mathbf{2 0 1 5} & 5.7 & 5.5 & 5.4 & 5.4 & 5.6 & 5.3 & 5.2 & 5.1 & 5.0 & 5.0 & 5.1 & 5.0 \\\\\n",
        "\\hline \\mathbf{2 0 1 6} & 4.8 & 4.9 & 5.0 & 5.1 & 4.8 & 4.9 & 4.8 & 4.9 & 5.0 & 4.9 & 4.7 & 4.7 \\\\\n",
        "\\hline \\mathbf{2 0 1 7} & 4.7 & 4.6 & 4.4 & 4.5 & 4.4 & 4.3 & 4.3 & 4.4 & 4.2 & 4.1 & 4.2 & 4.1 \\\\\n",
        "\\hline \\mathbf{2 0 1 8} & 4.0 & 4.1 & 4.0 & 4.0 & 3.8 & 4.0 & 3.8 & 3.8 & 3.7 & 3.8 & 3.8 & 3.9 \\\\\n",
        "\\hline \\mathbf{2 0 1 9} & 4.0 & 3.8 & 3.8 & 3.7 & 3.7 & 3.6 & 3.6 & 3.7 & 3.5 & 3.6 & 3.6 & 3.6 \\\\\n",
        "\\hline \\mathbf{2 0 2 0} & 3.5 & 3.5 & 4.4 & 14.8 & 13.3 & 11.1 & 10.2 & 8.4 & 7.8 & 6.9 & 6.7 & 6.7 \\\\\n",
        "\\hline \\mathbf{2 0 2 1} & 6.3 & 6.2 & 6.0 & 6.1 & 5.8 & 5.9 & 5.4 & 5.2 & & & & \\\\\n",
        "\\hline\n",
        "\\end{array}"
      ],
      "execution_count": null,
      "outputs": [
        {
          "output_type": "error",
          "ename": "SyntaxError",
          "evalue": "ignored",
          "traceback": [
            "\u001b[0;36m  File \u001b[0;32m\"<ipython-input-5-cfe070c2a6cc>\"\u001b[0;36m, line \u001b[0;32m1\u001b[0m\n\u001b[0;31m    \\begin{array}{|l|r|r|r|r|r|r|r|r|r|r|r|r|}\u001b[0m\n\u001b[0m                                              ^\u001b[0m\n\u001b[0;31mSyntaxError\u001b[0m\u001b[0;31m:\u001b[0m unexpected character after line continuation character\n"
          ]
        }
      ]
    },
    {
      "cell_type": "code",
      "metadata": {
        "colab": {
          "base_uri": "https://localhost:8080/"
        },
        "id": "XrTbXviteK3r",
        "outputId": "5a54e70e-1da6-4303-9b00-45426c0f2aae"
      },
      "source": [
        "!pip install datacommons"
      ],
      "execution_count": null,
      "outputs": [
        {
          "output_type": "stream",
          "name": "stdout",
          "text": [
            "Collecting datacommons\n",
            "  Downloading datacommons-1.4.3-py3-none-any.whl (46 kB)\n",
            "\u001b[?25l\r\u001b[K     |███████                         | 10 kB 27.3 MB/s eta 0:00:01\r\u001b[K     |██████████████                  | 20 kB 29.4 MB/s eta 0:00:01\r\u001b[K     |█████████████████████▏          | 30 kB 11.3 MB/s eta 0:00:01\r\u001b[K     |████████████████████████████▏   | 40 kB 8.9 MB/s eta 0:00:01\r\u001b[K     |████████████████████████████████| 46 kB 2.1 MB/s \n",
            "\u001b[?25hRequirement already satisfied: six in /usr/local/lib/python3.7/dist-packages (from datacommons) (1.15.0)\n",
            "Installing collected packages: datacommons\n",
            "Successfully installed datacommons-1.4.3\n"
          ]
        }
      ]
    },
    {
      "cell_type": "code",
      "metadata": {
        "colab": {
          "base_uri": "https://localhost:8080/"
        },
        "id": "4ebWmIDje6lv",
        "outputId": "764f9c80-8c8a-4594-bd53-885666ddf24e"
      },
      "source": [
        "import datacommons as dc\n",
        "dc.get_stat_all([\"geoId/05\"], [\"Count_Person\", \"Count_Person_Male\"])"
      ],
      "execution_count": null,
      "outputs": [
        {
          "output_type": "execute_result",
          "data": {
            "text/plain": [
              "{'geoId/05': {'Count_Person': {'sourceSeries': [{'importName': 'WikidataPopulation',\n",
              "     'measurementMethod': 'WikidataPopulation',\n",
              "     'provenanceDomain': 'wikidata.org',\n",
              "     'provenanceUrl': 'https://www.wikidata.org/wiki/Wikidata:Main_Page',\n",
              "     'val': {'1910': 1574449,\n",
              "      '1920': 1752204,\n",
              "      '1930': 1854482,\n",
              "      '1940': 1949387,\n",
              "      '1950': 1909511,\n",
              "      '1960': 1786272,\n",
              "      '1970': 1923295,\n",
              "      '1980': 2286435,\n",
              "      '1990': 2350725,\n",
              "      '2000': 2673400,\n",
              "      '2010-04-01': 2915918,\n",
              "      '2015': 2978204}},\n",
              "    {'importName': 'USDecennialCensus_RedistrictingRelease',\n",
              "     'measurementMethod': 'USDecennialCensus',\n",
              "     'provenanceDomain': 'census.gov',\n",
              "     'provenanceUrl': 'https://www.census.gov/programs-surveys/decennial-census/about/rdo/summary-files.html',\n",
              "     'val': {'2000': 2673400, '2010': 2915918, '2020': 3011524}},\n",
              "    {'importName': 'OECDRegionalDemography',\n",
              "     'measurementMethod': 'OECDRegionalStatistics',\n",
              "     'observationPeriod': 'P1Y',\n",
              "     'provenanceDomain': 'oecd.org',\n",
              "     'provenanceUrl': 'https://stats.oecd.org/Index.aspx?DataSetCode=REGION_DEMOGR#',\n",
              "     'val': {'1995': 2535400,\n",
              "      '1996': 2572110,\n",
              "      '1997': 2601090,\n",
              "      '1998': 2626290,\n",
              "      '1999': 2651860,\n",
              "      '2000': 2678590,\n",
              "      '2001': 2691570,\n",
              "      '2002': 2705930,\n",
              "      '2003': 2724820,\n",
              "      '2004': 2749690,\n",
              "      '2005': 2781100,\n",
              "      '2006': 2821760,\n",
              "      '2007': 2848650,\n",
              "      '2008': 2874550,\n",
              "      '2009': 2896840,\n",
              "      '2010': 2921960,\n",
              "      '2011': 2940670,\n",
              "      '2012': 2952160,\n",
              "      '2013': 2959400,\n",
              "      '2014': 2967390,\n",
              "      '2015': 2978050,\n",
              "      '2016': 2989920,\n",
              "      '2017': 3001350,\n",
              "      '2018': 3009730,\n",
              "      '2019': 3017800}},\n",
              "    {'importName': 'KGHumanCurated',\n",
              "     'measurementMethod': 'HumanCuratedStats',\n",
              "     'provenanceDomain': 'google.com',\n",
              "     'provenanceUrl': 'https://google.com',\n",
              "     'val': {'2011': 2937979}},\n",
              "    {'importName': 'CensusPEP',\n",
              "     'measurementMethod': 'CensusPEPSurvey',\n",
              "     'provenanceDomain': 'census.gov',\n",
              "     'provenanceUrl': 'https://www.census.gov/programs-surveys/popest.html',\n",
              "     'val': {'1900': 1314000,\n",
              "      '1901': 1341000,\n",
              "      '1902': 1360000,\n",
              "      '1903': 1384000,\n",
              "      '1904': 1419000,\n",
              "      '1905': 1447000,\n",
              "      '1906': 1465000,\n",
              "      '1907': 1484000,\n",
              "      '1908': 1513000,\n",
              "      '1909': 1545000,\n",
              "      '1910': 1583000,\n",
              "      '1911': 1610000,\n",
              "      '1912': 1636000,\n",
              "      '1913': 1664000,\n",
              "      '1914': 1688000,\n",
              "      '1915': 1702000,\n",
              "      '1916': 1719000,\n",
              "      '1917': 1737000,\n",
              "      '1918': 1749000,\n",
              "      '1919': 1742000,\n",
              "      '1920': 1756000,\n",
              "      '1921': 1769000,\n",
              "      '1922': 1772000,\n",
              "      '1923': 1784000,\n",
              "      '1924': 1800000,\n",
              "      '1925': 1812000,\n",
              "      '1926': 1826000,\n",
              "      '1927': 1840000,\n",
              "      '1928': 1847000,\n",
              "      '1929': 1852000,\n",
              "      '1930': 1859000,\n",
              "      '1931': 1848000,\n",
              "      '1932': 1836000,\n",
              "      '1933': 1854000,\n",
              "      '1934': 1878000,\n",
              "      '1935': 1890000,\n",
              "      '1936': 1892000,\n",
              "      '1937': 1903000,\n",
              "      '1938': 1928000,\n",
              "      '1939': 1948000,\n",
              "      '1940': 1955000,\n",
              "      '1941': 1969000,\n",
              "      '1942': 1977000,\n",
              "      '1943': 1843000,\n",
              "      '1944': 1768000,\n",
              "      '1945': 1762000,\n",
              "      '1950': 1908000,\n",
              "      '1951': 1901000,\n",
              "      '1952': 1838000,\n",
              "      '1953': 1780000,\n",
              "      '1954': 1734000,\n",
              "      '1955': 1725000,\n",
              "      '1956': 1704000,\n",
              "      '1957': 1733000,\n",
              "      '1958': 1726000,\n",
              "      '1959': 1756000,\n",
              "      '1960': 1789000,\n",
              "      '1961': 1806000,\n",
              "      '1962': 1853000,\n",
              "      '1963': 1875000,\n",
              "      '1964': 1897000,\n",
              "      '1965': 1894000,\n",
              "      '1966': 1899000,\n",
              "      '1967': 1901000,\n",
              "      '1968': 1902000,\n",
              "      '1969': 1913000,\n",
              "      '1970': 1923322,\n",
              "      '1971': 1972312,\n",
              "      '1972': 2018638,\n",
              "      '1973': 2059256,\n",
              "      '1974': 2101403,\n",
              "      '1975': 2159526,\n",
              "      '1976': 2170161,\n",
              "      '1977': 2209010,\n",
              "      '1978': 2243127,\n",
              "      '1979': 2271333,\n",
              "      '1980': 2293195,\n",
              "      '1981': 2294262,\n",
              "      '1982': 2305754,\n",
              "      '1983': 2319774,\n",
              "      '1984': 2327044,\n",
              "      '1985': 2331990,\n",
              "      '1986': 2342359,\n",
              "      '1987': 2342638,\n",
              "      '1988': 2346387,\n",
              "      '1989': 2350725,\n",
              "      '1990': 2354343,\n",
              "      '1991': 2370666,\n",
              "      '1992': 2394098,\n",
              "      '1993': 2423743,\n",
              "      '1994': 2450605,\n",
              "      '1995': 2480121,\n",
              "      '1996': 2504858,\n",
              "      '1997': 2524007,\n",
              "      '1998': 2538202,\n",
              "      '1999': 2551373,\n",
              "      '2000': 2576476,\n",
              "      '2001': 2690743,\n",
              "      '2002': 2704471,\n",
              "      '2003': 2722804,\n",
              "      '2004': 2746215,\n",
              "      '2005': 2776257,\n",
              "      '2006': 2814910,\n",
              "      '2007': 2841595,\n",
              "      '2008': 2867099,\n",
              "      '2009': 2887331,\n",
              "      '2010': 2910236,\n",
              "      '2011': 2940667,\n",
              "      '2012': 2952164,\n",
              "      '2013': 2959400,\n",
              "      '2014': 2967392,\n",
              "      '2015': 2978048,\n",
              "      '2016': 2989918,\n",
              "      '2017': 3001345,\n",
              "      '2018': 3009733,\n",
              "      '2019': 3017804}},\n",
              "    {'importName': 'CensusACS5YearSurvey',\n",
              "     'measurementMethod': 'CensusACS5yrSurvey',\n",
              "     'provenanceDomain': 'census.gov',\n",
              "     'provenanceUrl': 'https://www.census.gov/',\n",
              "     'val': {'2011': 2895928,\n",
              "      '2012': 2916372,\n",
              "      '2013': 2933369,\n",
              "      '2014': 2947036,\n",
              "      '2015': 2958208,\n",
              "      '2016': 2968472,\n",
              "      '2017': 2977944,\n",
              "      '2018': 2990671,\n",
              "      '2019': 2999370}},\n",
              "    {'importName': 'CensusACS1YearSurvey',\n",
              "     'measurementMethod': 'CensusACS1yrSurvey',\n",
              "     'provenanceDomain': 'census.gov',\n",
              "     'provenanceUrl': 'https://www.census.gov/',\n",
              "     'val': {'2010': 2921606,\n",
              "      '2011': 2937979,\n",
              "      '2012': 2949131,\n",
              "      '2013': 2959373,\n",
              "      '2014': 2966369,\n",
              "      '2015': 2978204,\n",
              "      '2016': 2988248,\n",
              "      '2017': 3004279,\n",
              "      '2018': 3013825,\n",
              "      '2019': 3017804}}]},\n",
              "  'Count_Person_Male': {'sourceSeries': [{'importName': 'OECDRegionalDemography',\n",
              "     'measurementMethod': 'OECDRegionalStatistics',\n",
              "     'observationPeriod': 'P1Y',\n",
              "     'provenanceDomain': 'oecd.org',\n",
              "     'provenanceUrl': 'https://stats.oecd.org/Index.aspx?DataSetCode=REGION_DEMOGR#',\n",
              "     'val': {'1995': 1228630,\n",
              "      '1996': 1248410,\n",
              "      '1997': 1263940,\n",
              "      '1998': 1277870,\n",
              "      '1999': 1292420,\n",
              "      '2000': 1307630,\n",
              "      '2001': 1315210,\n",
              "      '2002': 1323840,\n",
              "      '2003': 1332910,\n",
              "      '2004': 1346270,\n",
              "      '2005': 1362880,\n",
              "      '2006': 1383070,\n",
              "      '2007': 1398340,\n",
              "      '2008': 1410040,\n",
              "      '2009': 1422520,\n",
              "      '2010': 1434720,\n",
              "      '2011': 1444160,\n",
              "      '2012': 1450130,\n",
              "      '2013': 1453470,\n",
              "      '2014': 1457490,\n",
              "      '2015': 1463310,\n",
              "      '2016': 1469240,\n",
              "      '2017': 1475420,\n",
              "      '2018': 1480140}},\n",
              "    {'importName': 'CensusACS5YearSurvey',\n",
              "     'measurementMethod': 'CensusACS5yrSurvey',\n",
              "     'provenanceDomain': 'census.gov',\n",
              "     'provenanceUrl': 'https://www.census.gov/',\n",
              "     'val': {'2011': 1421287,\n",
              "      '2012': 1431252,\n",
              "      '2013': 1439862,\n",
              "      '2014': 1447235,\n",
              "      '2015': 1451913,\n",
              "      '2016': 1456694,\n",
              "      '2017': 1461651,\n",
              "      '2018': 1468412,\n",
              "      '2019': 1471760}},\n",
              "    {'importName': 'CensusACS1YearSurvey',\n",
              "     'measurementMethod': 'CensusACS1yrSurvey',\n",
              "     'provenanceDomain': 'census.gov',\n",
              "     'provenanceUrl': 'https://www.census.gov/',\n",
              "     'val': {'2010': 1430837,\n",
              "      '2011': 1447850,\n",
              "      '2012': 1449265,\n",
              "      '2013': 1461544,\n",
              "      '2014': 1456778,\n",
              "      '2015': 1463576,\n",
              "      '2016': 1468782,\n",
              "      '2017': 1479682,\n",
              "      '2018': 1476680,\n",
              "      '2019': 1474705}}]}}}"
            ]
          },
          "metadata": {},
          "execution_count": 11
        }
      ]
    },
    {
      "cell_type": "code",
      "metadata": {
        "colab": {
          "base_uri": "https://localhost:8080/"
        },
        "id": "pNvJgWaUVDz_",
        "outputId": "cc9b0eaf-301c-4f7c-a774-96a0a068fc1c"
      },
      "source": [
        "import pandas as pd\n",
        "import numpy as np\n",
        "\n",
        "df1 = pd.DataFrame(np.random.randn(3, 2), columns=list('AB'), index=pd.date_range('20000101', periods=3))\n",
        "df2 = pd.DataFrame(np.random.randn(3, 2), columns=list('AB'), index=pd.date_range('20000101', periods=3))\n",
        "df = pd.concat(dict(df1=df1, df2=df2), axis=1)\n",
        "df = df.reset_index(drop=True)\n",
        "df_tex = df.to_latex(index=False, escape=False)\n",
        "print(df_tex)"
      ],
      "execution_count": null,
      "outputs": [
        {
          "output_type": "stream",
          "name": "stdout",
          "text": [
            "\\begin{tabular}{rrrr}\n",
            "\\toprule\n",
            "      df1 & \\multicolumn{2}{l}{df2} \\\\\n",
            "        A &         B &         A &         B \\\\\n",
            "\\midrule\n",
            " 1.170932 & -0.587291 &  0.132599 & -1.855116 \\\\\n",
            "-0.290830 & -0.092849 &  1.797543 & -0.550164 \\\\\n",
            "-0.230025 &  0.780770 &  0.889589 &  1.108631 \\\\\n",
            "\\bottomrule\n",
            "\\end{tabular}\n",
            "\n"
          ]
        }
      ]
    },
    {
      "cell_type": "code",
      "metadata": {
        "colab": {
          "base_uri": "https://localhost:8080/"
        },
        "id": "OlDBBbQWWirY",
        "outputId": "1af222aa-2aa9-4259-adc1-ba24baf7605f"
      },
      "source": [
        "# To create a list of random integer values:\n",
        "import random\n",
        "import numpy as np\n",
        "import pandas as pd\n",
        "\n",
        "randomlist = random.sample(range(10, 30), 5)\n",
        "random_float_array = numpy.random.uniform(75.5, 125.5, 2)\n",
        "np.set_printoptions(precision=2)\n",
        "\n",
        "df = pd.DataFrame(np.random.random(5))\n",
        "print(df)\n",
        "print(df.to_latex())\n",
        "print(randomlist,random_float_array)\n",
        "\n",
        "\n",
        "month = [\"Jan\",\"Feb\",\"Mar\",\"Apr\",\"May\",\"Jun\",\"Jul\",\"Aug\",\"Sep\",\"Oct\",\"Nov\",\"Dec\"]\n",
        "carbrands=[\n",
        "  \"Abarth\",\"Alfa Romeo\",\"Aston Martin\",\"Audi\",\"Bentley\",\"BMW\",\"Bugatti\",\"Cadillac\",\"Chevrolet\",\"Chrysler\",\"Citroën\",\n",
        "  \"Dacia\",\"Daewoo\",\"Daihatsu\",\"Dodge\",\"Donkervoort\",\"DS\",\"Ferrari\",\"Fiat\",\"Fisker\",\"Ford\",\"Honda\",\"Hummer\",\"Hyundai\",\n",
        "  \"Infiniti\",\"Iveco\",\"Jaguar\",\"Jeep\",\"Kia\",\"KTM\",\"Lada\",\"Lamborghini\",\"Lancia\",\"Land Rover\",\"Landwind\",\"Lexus\",\"Lotus\",\"Maserati\",\"Maybach\",\n",
        "  \"Mazda\",\"McLaren\",\"Mercedes-Benz\",\"MG\",\"Mini\",\"Mitsubishi\"\"Morgan\",\"Nissan\",\"Opel\",\"Peugeot\",\"Porsche\",\"Renault\",\"Rolls-Royce\",\"Rover\",\n",
        "  \"Saab\",\"Seat\",\"Skoda\",\"Smart\",\"SsangYong\",\"Subaru\",\"Suzuki\",\"Tesla\",\"Toyota\",\"Volkswagen\",\"Volvo\"\n",
        "]\n",
        "\n",
        "obj = [\"The Consumer Price Index\", ]\n",
        "\n",
        "my_list = [1, 2, 3, 4, 5]\n",
        "num_selections = 2\n",
        "\n",
        "new_list = random.sample(my_list, num_selections)\n",
        "randIndex = random.sample(range(len(my_list)), num_selections)\n",
        "randIndex.sort()\n",
        "new_list = [my_list[i] for i in randIndex]\n",
        "print(new_list)\n"
      ],
      "execution_count": null,
      "outputs": [
        {
          "output_type": "stream",
          "name": "stdout",
          "text": [
            "          0\n",
            "0  0.374985\n",
            "1  0.255889\n",
            "2  0.431163\n",
            "3  0.558858\n",
            "4  0.850460\n",
            "\\begin{tabular}{lr}\n",
            "\\toprule\n",
            "{} &         0 \\\\\n",
            "\\midrule\n",
            "0 &  0.374985 \\\\\n",
            "1 &  0.255889 \\\\\n",
            "2 &  0.431163 \\\\\n",
            "3 &  0.558858 \\\\\n",
            "4 &  0.850460 \\\\\n",
            "\\bottomrule\n",
            "\\end{tabular}\n",
            "\n",
            "[13, 22, 23, 12, 15] [81.51 89.36]\n",
            "[1, 4]\n"
          ]
        }
      ]
    },
    {
      "cell_type": "markdown",
      "metadata": {
        "id": "zEnCYFPqomTn"
      },
      "source": [
        "The Consumer Price Index (CPI) is a measure of the average change over time in the prices paid by urban consumers for a market basket of consumer goods and services\n",
        "\n",
        "All items in U.S. city average, all urban consumers, seasonally adjusted\n",
        "\n",
        "[link](https://data.bls.gov/timeseries/CUSR0000SA0&output_view=pct_1mth)\n",
        "\n",
        "| Year | Jan | Feb | Mar | Apr | May | Jun | Jul | Aug | Sep | Oct | Nov | Dec | \n",
        "| ---: | ---: | ---: | ---: | ---: | ---: | ---: | ---: | ---: | ---: | ---: | ---: | ---: | \n",
        "| 2011 | 0.3 | 0.3 | 0.5 | 0.5 | 0.3 | 0.0 | 0.3 | 0.3 | 0.2 | 0.1 | 0.2 | 0.0 | \n",
        "| 2012 | 0.3 | 0.2 | 0.2 | 0.2 | -0.2 | -0.1 | 0.0 | 0.6 | 0.5 | 0.3 | -0.2 | 0.0 | \n",
        "| 2013 | 0.2 | 0.5 | -0.3 | -0.2 | 0.0 | 0.2 | 0.2 | 0.2 | 0.0 | 0.1 | 0.2 | 0.3 | \n",
        "| 2014 | 0.2 | 0.1 | 0.2 | 0.2 | 0.2 | 0.1 | 0.1 | 0.0 | 0.0 | 0.0 | -0.2 | -0.3 |\n",
        "| 2015 | -0.6 | 0.3 | 0.3 | 0.1 | 0.3 | 0.3 | 0.2 | 0.0 | -0.2 | 0.1 | 0.1 | -0.1 |\n",
        "| 2016 | 0.0 | -0.1 | 0.3 | 0.4 | 0.2 | 0.3 | -0.1 | 0.2 | 0.3 | 0.2 | 0.1 | 0.3 | \n",
        "| 2017 | 0.4 | 0.1 | 0.0 | 0.2 | -0.1 | 0.1 | 0.0 | 0.4 | 0.5 | 0.0 | 0.3 | 0.1 |  \n",
        "| 2018 | 0.4 | 0.2 | 0.1 | 0.3 | 0.2 | 0.1 | 0.1 | 0.2 | 0.2 | 0.3 | 0.0 | -0.1 | \n",
        "| 2019 | 0.0 | 0.2 | 0.5 | 0.5 | 0.0 | 0.0 | 0.2 | 0.1 | 0.2 | 0.3 | 0.2 | 0.1 |  \n",
        "| 2020 | 0.2 | 0.1 | -0.3 | -0.7 | -0.1 | 0.5 | 0.5 | 0.4 | 0.2 | 0.1 | 0.2 | 0.2 |  \n",
        "| 2021 | 0.3 | 0.4 | 0.6 | 0.8 | 0.6 | 0.9 | 0.5 | 0.3 |  |  |  |  |  "
      ]
    },
    {
      "cell_type": "markdown",
      "metadata": {
        "id": "30bHB6aasM8T"
      },
      "source": [
        "\n",
        "Instructiona: All employees, thousands, education and health services, seasonally adjusted\n",
        "\n",
        "[\n",
        "  'Number of persons',\n",
        "  'Employed',\n",
        "  'Wage',\n",
        "  'salary workers',\n",
        "  '30',\n",
        "  '50'\n",
        "]\n",
        "\n",
        "+ Avg hrs per day - Leisure and sports (includes travel)\n",
        "+ Avg hrs per day - Household activities (includes travel)\n",
        "+ Avg hrs per day - Sleeping\n",
        "+ Avg hrs per day for participants - Working, Employed\n",
        "+ Civilian workers; % of all workers; no minimum education requirement\n",
        "+ Education and communication in U.S. city average, all urban consumers, chained, not seasonally adjusted\n",
        "+ Avg hrs per day - Eating and drinking (includes travel)\n",
        "+ Civilian workers; % of all workers; minimum education level is a high school diploma\n",
        "+ Avg hrs per day - Watching TV\n",
        "+ Civilian workers; % of all workers; minimum education level is an associate's degree\n",
        "+ Education in U.S. city average, all urban consumers, chained, not seasonally adjusted\n",
        "+ Percent participating on an avg day - Working, Employed\n",
        "+ Avg hrs per day - Socializing and communicating\n",
        "+ (unadj)- Percent of employed, Private wage and salary workers, Members of unions, Education and health services\n",
        "+ Civilian workers; % of all workers; minimum education level is a bachelor's degree\n",
        "+ Avg hrs per day - Working, Employed\n",
        "+ Avg hrs per day - Caring for and helping household children, Parents of household children under 18 yrs\n",
        "+ Percent participating on an avg day - Participating in sports, exercise, and recreation (includes related waiting and security)\n",
        "\n",
        "+ Civilian workers; % of all workers; minimum education level is a master's degree\n",
        "+ Avg hrs per day - Housework\n",
        "+ Avg hrs per day - Food preparation and cleanup\n",
        "+ Avg hrs per day - Working, Employed, on days worked\n",
        "+ Avg hrs per day - Housework, Women\n",
        "+ Avg hrs per day - Food preparation and cleanup, Women\n",
        "+ Avg hrs per day - Housework, Men\n",
        "+ Avg hrs per day - Household activities (includes travel), Women\n",
        "+ Avg hrs per day - Food preparation and cleanup, Men\n",
        "+ Avg hrs per day - Household activities (includes travel), Men\n",
        "+ Avg hrs per day for participants - Working at home, Employed\n",
        "+ Avg hrs per day - Watching TV, Weekend days and holidays\n",
        "+ Avg hrs per day - Leisure and sports (includes travel), Nonholiday weekdays\n",
        "+ Avg hrs per day - Watching TV, Nonholiday weekdays\n",
        "+ Civilian workers; % of all workers; minimum education level is a doctorate degree\n",
        "+ Civilian workers; % of all workers; minimum education level is a professional degree\n",
        "+ Education by Income Deciles: Highest 10 percent\n",
        "+ Education by Education: Associate degree\n",
        "+ Education by Education: Bachelor's degree\n",
        "+ Education by Education: All Consumer Units\n",
        " Education by Education: High school graduate\n",
        "+ Education by Education: Total, college graduate\n",
        "+ Education by Education: Master's, professional, doctorate\n",
        "+ Education by Highest Education: College graduate: Total\n",
        "+ Education by Highest Education: All Consumer Units\n",
        "+ Education by Highest Education: College graduate: Bachelor's degree\n",
        "+ Education by Education: Total, less than college graduate\n",
        "+ Education by Education: Less than high school graduate\n",
        "+ Education by Education: High school graduate with some college\n",
        "+ Education by Highest Education: Less than college graduate: Total\n",
        "+ Education by Highest Education: College graduate: Master's, professional, doctoral degree\n",
        "+ Education by Highest Education: Less than college graduate: Associate's degree\n",
        "+ Education by Highest Education: Less than college graduate: High school graduate\n",
        "+ Education by Occupation: Retired\n",
        "+ Education by Highest Education: Less than college graduate: Less than high school graduate\n",
        "+ Education by Highest Education: Less than college graduate: High schoo graduate with some college\n",
        "+ Civilian workers; % of education administrators, postsecondary; minimum education level is a bachelor's degree\n",
        "+ Civilian workers; % of education administrators, postsecondary; minimum education level is a master's degree\n",
        "+ Education by Race: All Consumer Units\n",
        "+ Education by Occupation: All Consumer Units\n",
        "Education by Age: All Consumer Units\n",
        "+ Education by Occupation: Self-employed workers\n",
        "+ Education by Generation: All Consumer Units\n",
        "+ Civilian workers; % of teaching assistants, special education; minimum education level is an associate's degree\n",
        "+ Education by Income Quintiles: Incomplete income reports\n",
        "+ Education by Income Range: All Consumer Units\n",
        "+ Education by Income Deciles: All consumer units\n",
        "+ Education by Income Deciles: Lowest 10 percent\n",
        "+ Education by Income Deciles: Second 10 percent\n",
        "+ Education by Income Deciles: Third 10 percent\n",
        "+ Education by Income Deciles: Fourth 10 percent\n",
        "+ Education by Income Deciles: Fifth 10 percent\n",
        "+ Education by Income Deciles: Sixth 10 percent\n",
        "+ Education by Income Deciles: Seventh 10 percent\n",
        "+ Education by Income Deciles: Eighth 10 percent\n",
        "+ Education by Income Deciles: Ninth 10 percent\n",
        "+ Education by Hispanic Origin: All Consumer Units\n",
        "+ Education by Census Region: All Consumer Units\n",
        "+ Education by Income Range: Less than $15,000\n",
        "+ Education by Income Range: $15,000 to $29,999\n",
        "+ Education by Income Range: $200,000 and more\n",
        "+ Education by Income Range: $70,000 to $99,999\n",
        "+ Education by Income Range: $100,000 to $149,999\n",
        "+ Education by Income Range: $150,000 to $199,999\n",
        "+ Education by Housing tenure: All Consumer Units\n",
        "+ Education by Housing tenure: Housing tenure: renter\n",
        "+ Education by Income Quintiles: All Consumer Units\n",
        "+ Civilian workers; % of special education teachers, middle school; minimum education level is a bachelor's degree\n",
        "+ Civilian workers; % of preschool teachers, except special education; minimum education level is an associate's degree\n",
        "+ Civilian workers; % of preschool teachers, except special education; minimum education level is a bachelor's degree\n",
        "+ Civilian workers; % of education administrators, kindergarten through secondary; minimum education level is a bachelor's degree\n",
        "+ Civilian workers; % of special education teachers, secondary school; minimum education level is a bachelor's degree\n",
        "+ Civilian workers; % of education administrators, kindergarten through secondary; minimum education level is a master's degree\n",
        "+ Civilian workers; % of special education teachers, elementary school; minimum education level is a bachelor's degree\n",
        "+ Civilian workers; % of kindergarten teachers, except special education; minimum education level is a bachelor's degree\n",
        "+ Civilian workers; % of teaching assistants, special education; minimum education level is a high school diploma\n",
        "+ Education by Number of Earners: All Consumer Units\n",
        "+ Education by Income Quintiles: Total complete income reporters\n",
        "+ Education by Census Region: Region of residence: northeast\n",
        "+ Education by Census Region: Region of residence: south\", \"b\")\n",
        "Replace in a_string\n",
        "\n",
        "print(a_string)"
      ]
    },
    {
      "cell_type": "code",
      "metadata": {
        "id": "_LisrEXcsMr0"
      },
      "source": [],
      "execution_count": null,
      "outputs": []
    },
    {
      "cell_type": "markdown",
      "metadata": {
        "id": "dHz_yl-8qPNL"
      },
      "source": [
        "Employment, Hours, and Earnings from the Current Employment Statistics survey (National) \n",
        "\n",
        "Mining and logging\n",
        "\n",
        "\n",
        "| Year | Jan | Feb | Mar | Apr | May | Jun | Jul | Aug | Sep | Oct | Nov | Dec |\n",
        "| :---: | :---: | :---: | :---: | :---: | :---: | :---: | :---: | :---: | :---: | :---: | :---: | :---: |\n",
        "| 2011 | 27.91 | 28.01 | 28.08 | 28.33 | 28.17 | 27.85 | 27.89 | 28.00 | 28.05 | 28.16 | 28.26 | 28.44 |\n",
        "| 2012 | 28.05 | 28.63 | 28.69 | 28.86 | 28.46 | 28.78 | 29.02 | 28.73 | 28.93 | 28.57 | 28.88 | 29.20 |\n",
        "| 2013 | 29.21 | 29.03 | 29.15 | 29.30 | 29.44 | 29.65 | 29.71 | 29.90 | 29.99 | 30.44 | 30.66 | 30.49 |\n",
        "| 2014 | 30.50 | 30.60 | 30.56 | 30.82 | 30.91 | 30.86 | 30.90 | 30.93 | 30.88 | 30.80 | 30.82 | 30.82 |\n",
        "| 2015 | 30.51 | 30.67 | 30.83 | 30.70 | 31.16 | 31.03 | 31.18 | 31.41 | 31.52 | 31.43 | 31.68 | 31.47 |\n",
        "| 2016 | 31.79 | 31.82 | 31.97 | 31.98 | 32.10 | 32.08 | 31.98 | 31.63 | 31.83 | 31.98 | 31.90 | 32.04 |\n",
        "| 2017 | 32.87 | 32.19 | 32.05 | 31.83 | 31.83 | 31.88 | 32.18 | 32.02 | 31.94 | 32.02 | 32.11 | 32.16 |\n",
        "| 2018 | 32.32 | 32.26 | 32.47 | 32.38 | 32.27 | 32.47 | 32.41 | 32.57 | 32.83 | 32.59 | 32.73 | 32.67 |\n",
        "| 2019 | 32.76 | 32.99 | 32.99 | 33.30 | 33.40 | 33.57 | 33.97 | 34.00 | 34.25 | 34.53 | 34.36 | 34.38 |\n",
        "| 2020 | 34.24 | 34.41 | 34.43 | 34.74 | 34.87 | 34.94 | 34.84 | 34.80 | 34.89 | 34.89 | 34.47 | 34.67 |\n",
        "| 2021 | 34.58 | 34.78 | 34.55 | 35.00 | 34.99 | 35.06 | 35.32(P) | 35.53(P) |  |  |  |  |\n",
        "| P: preliminary |  |  |  |  |  |  |  |  |  |  |  |  |"
      ]
    },
    {
      "cell_type": "code",
      "metadata": {
        "id": "pA5nQmVIqPtN"
      },
      "source": [
        "\\begin{tabular}{|c|c|c|c|c|c|c|c|c|c|c|c|c|}\n",
        "\\hline Year & Jan & Feb & Mar & Apr & May & Jun & Jul & Aug & Sep & Oct & Nov & Dec \\\\\n",
        "\\hline 2011 & $27.91$ & $28.01$ & $28.08$ & $28.33$ & $28.17$ & $27.85$ & $27.89$ & $28.00$ & $28.05$ & $28.16$ & $28.26$ & $28.44$ \\\\\n",
        "\\hline 2012 & $28.05$ & $28.63$ & $28.69$ & $28.86$ & $28.46$ & $28.78$ & $29.02$ & $28.73$ & $28.93$ & $28.57$ & $28.88$ & $29.20$ \\\\\n",
        "\\hline 2013 & $29.21$ & $29.03$ & $29.15$ & $29.30$ & $29.44$ & $29.65$ & $29.71$ & $29.90$ & $29.99$ & $30.44$ & $30.66$ & $30.49$ \\\\\n",
        "\\hline 2014 & $30.50$ & $30.60$ & $30.56$ & $30.82$ & $30.91$ & $30.86$ & $30.90$ & $30.93$ & $30.88$ & $30.80$ & $30.82$ & $30.82$ \\\\\n",
        "\\hline 2015 & $30.51$ & $30.67$ & $30.83$ & $30.70$ & $31.16$ & $31.03$ & $31.18$ & $31.41$ & $31.52$ & $31.43$ & $31.68$ & $31.47$ \\\\\n",
        "\\hline 2016 & $31.79$ & $31.82$ & $31.97$ & $31.98$ & $32.10$ & $32.08$ & $31.98$ & $31.63$ & $31.83$ & $31.98$ & $31.90$ & $32.04$ \\\\\n",
        "\\hline 2017 & $32.87$ & $32.19$ & $32.05$ & $31.83$ & $31.83$ & $31.88$ & $32.18$ & $32.02$ & $31.94$ & $32.02$ & $32.11$ & $32.16$ \\\\\n",
        "\\hline 2018 & $32.32$ & $32.26$ & $32.47$ & $32.38$ & $32.27$ & $32.47$ & $32.41$ & $32.57$ & $32.83$ & $32.59$ & $32.73$ & $32.67$ \\\\\n",
        "\\hline 2019 & $32.76$ & $32.99$ & $32.99$ & $33.30$ & $33.40$ & $33.57$ & $33.97$ & $34.00$ & $34.25$ & $34.53$ & $34.36$ & $34.38$ \\\\\n",
        "\\hline 2020 & $34.24$ & $34.41$ & $34.43$ & $34.74$ & $34.87$ & $34.94$ & $34.84$ & $34.80$ & $34.89$ & $34.89$ & $34.47$ & $34.67$ \\\\\n",
        "\\hline 2021 & $34.58$ & $34.78$ & $34.55$ & $35.00$ & $34.99$ & $35.06$ & $35.32(\\mathrm{P})$ & $35.53(\\mathrm{P})$ & & & & \\\\\n",
        "\\hline $\\mathrm{P}:$ preliminary \\\\\n",
        "\\hline\n",
        "\\end{tabular}\n",
        "$\\mathrm{P}:$ preliminary"
      ],
      "execution_count": null,
      "outputs": []
    },
    {
      "cell_type": "code",
      "metadata": {
        "colab": {
          "base_uri": "https://localhost:8080/"
        },
        "id": "lADB5nO6OKv3",
        "outputId": "2bc29c09-e433-4619-97f5-3c9bc2e47f63"
      },
      "source": [
        "!pip install -q latextable"
      ],
      "execution_count": null,
      "outputs": [
        {
          "output_type": "stream",
          "name": "stdout",
          "text": [
            "  Building wheel for latextable (setup.py) ... \u001b[?25l\u001b[?25hdone\n"
          ]
        }
      ]
    },
    {
      "cell_type": "code",
      "metadata": {
        "colab": {
          "base_uri": "https://localhost:8080/"
        },
        "id": "kpbfnr7TOLY5",
        "outputId": "3bc4fb3e-bcfd-48f0-ecc2-bc4d9712464f"
      },
      "source": [
        "from tabulate import tabulate\n",
        "from texttable import Texttable\n",
        "\n",
        "import latextable\n",
        "\n",
        "rows = [['Rocket', 'Organisation', 'LEO Payload (Tonnes)', 'Maiden Flight'],\n",
        "        ['Saturn V', 'NASA', '140', '1967'],\n",
        "        ['Space Shuttle', 'NASA', '24.4', '1981'],\n",
        "        ['Falcon 9 FT-Expended', 'SpaceX', '22.8', '2017'],\n",
        "        ['Ariane 5 ECA', 'ESA', '21', '2002']]\n",
        "\n",
        "table = Texttable()\n",
        "table.set_cols_align([\"c\"] * 4)\n",
        "table.set_deco(Texttable.HEADER | Texttable.VLINES)\n",
        "table.add_rows(rows)\n",
        "\n",
        "print('Tabulate Table:')\n",
        "print(tabulate(rows, headers='firstrow'))\n",
        "\n",
        "print('\\nTexttable Table:')\n",
        "print(table.draw())\n",
        "\n",
        "print('\\nTabulate Latex:')\n",
        "print(tabulate(rows, headers='firstrow', tablefmt='latex'))\n",
        "\n",
        "print('\\nTexttable Latex:')\n",
        "print(latextable.draw_latex(table, caption=\"A comparison of rocket features.\"))\n"
      ],
      "execution_count": null,
      "outputs": [
        {
          "output_type": "stream",
          "name": "stdout",
          "text": [
            "Tabulate Table:\n",
            "Rocket                Organisation      LEO Payload (Tonnes)    Maiden Flight\n",
            "--------------------  --------------  ----------------------  ---------------\n",
            "Saturn V              NASA                             140               1967\n",
            "Space Shuttle         NASA                              24.4             1981\n",
            "Falcon 9 FT-Expended  SpaceX                            22.8             2017\n",
            "Ariane 5 ECA          ESA                               21               2002\n",
            "\n",
            "Texttable Table:\n",
            "       Rocket        | Organisation | LEO Payload (Tonnes) | Maiden Flight\n",
            "=====================+==============+======================+==============\n",
            "      Saturn V       |     NASA     |         140          |     1967     \n",
            "   Space Shuttle     |     NASA     |        24.400        |     1981     \n",
            "Falcon 9 FT-Expended |    SpaceX    |        22.800        |     2017     \n",
            "    Ariane 5 ECA     |     ESA      |          21          |     2002     \n",
            "\n",
            "Tabulate Latex:\n",
            "\\begin{tabular}{llrr}\n",
            "\\hline\n",
            " Rocket               & Organisation   &   LEO Payload (Tonnes) &   Maiden Flight \\\\\n",
            "\\hline\n",
            " Saturn V             & NASA           &                  140   &            1967 \\\\\n",
            " Space Shuttle        & NASA           &                   24.4 &            1981 \\\\\n",
            " Falcon 9 FT-Expended & SpaceX         &                   22.8 &            2017 \\\\\n",
            " Ariane 5 ECA         & ESA            &                   21   &            2002 \\\\\n",
            "\\hline\n",
            "\\end{tabular}\n",
            "\n",
            "Texttable Latex:\n",
            "\\begin{table}\n",
            "\t\\begin{center}\n",
            "\t\t\\begin{tabular}{c|c|c|c}\n",
            "\t\t\tRocket & Organisation & LEO Payload (Tonnes) & Maiden Flight \\\\\n",
            "\t\t\t\\hline\n",
            "\t\t\tSaturn V & NASA & 140 & 1967 \\\\\n",
            "\t\t\tSpace Shuttle & NASA & 24.400 & 1981 \\\\\n",
            "\t\t\tFalcon 9 FT-Expended & SpaceX & 22.800 & 2017 \\\\\n",
            "\t\t\tAriane 5 ECA & ESA & 21 & 2002 \\\\\n",
            "\t\t\\end{tabular}\n",
            "\t\\end{center}\n",
            "\t\\caption{A comparison of rocket features.}\n",
            "\\end{table}\n"
          ]
        }
      ]
    },
    {
      "cell_type": "code",
      "metadata": {
        "id": "oUQrhiCJOx8s",
        "colab": {
          "base_uri": "https://localhost:8080/"
        },
        "outputId": "b71d0a8f-a8db-409a-cc86-08996a82c1c6"
      },
      "source": [
        "from texttable import Texttable\n",
        "import latextable\n",
        "\n",
        "\n",
        "def run():\n",
        "    example_1()\n",
        "    example_2()\n",
        "    example_3()\n",
        "    example_4()\n",
        "\n",
        "\n",
        "def example_1():\n",
        "    # Example 1 - Basic\n",
        "    table_1 = Texttable()\n",
        "    table_1.set_cols_align([\"l\", \"r\", \"c\"])\n",
        "    table_1.set_cols_valign([\"t\", \"m\", \"b\"])\n",
        "    table_1.add_rows([[\"Name\", \"Age\", \"Nickname\"],\n",
        "                     [\"Mr\\nXavier\\nHuon\", 32, \"Xav'\"],\n",
        "                     [\"Mr\\nBaptiste\\nClement\", 1, \"Baby\"],\n",
        "                     [\"Mme\\nLouise\\nBourgeau\", 28, \"Lou\\n \\nLoue\"]])\n",
        "    print('-- Example 1: Basic --')\n",
        "    print('Texttable Output:')\n",
        "    print(table_1.draw())\n",
        "    print('\\nLatextable Output:')\n",
        "    print(latextable.draw_latex(table_1, caption=\"An example table.\", label=\"table:example_table\"))\n",
        "\n",
        "\n",
        "def example_2():\n",
        "    # Example 2 - Drop columns\n",
        "    table_2 = Texttable()\n",
        "    table_2.set_deco(Texttable.HEADER)\n",
        "    table_2.set_cols_dtype(['t', 'f', 'e', 'i', 'a'])\n",
        "    table_2.set_cols_align([\"l\", \"r\", \"r\", \"r\", \"l\"])\n",
        "    table_2.add_rows([[\"text\",    \"float\", \"exp\", \"int\", \"auto\"],\n",
        "                     [\"abcd\",    \"67\",    654,   89,    128.001],\n",
        "                     [\"efghijk\", 67.5434, .654,  89.6,  12800000000000000000000.00023],\n",
        "                     [\"lmn\",     5e-78,   5e-78, 89.4,  .000000000000128],\n",
        "                     [\"opqrstu\", .023,    5e+78, 92.,   12800000000000000000000]])\n",
        "    print('\\n-- Example 2: Drop Columns --')\n",
        "    print('Texttable Output:')\n",
        "    print(table_2.draw())\n",
        "    print('\\nLatextable Output:')\n",
        "    print(latextable.draw_latex(table_2, caption=\"A table with dropped columns.\", label=\"table:dropped_column_table\",\n",
        "                                drop_columns=['exp', 'int']))\n",
        "\n",
        "\n",
        "def example_3():\n",
        "\n",
        "    # Example 3 - Position\n",
        "    table_3 = Texttable()\n",
        "    table_3.set_cols_align([\"c\"] * 4)\n",
        "    table_3.set_deco(Texttable.HEADER | Texttable.VLINES)\n",
        "    table_3.add_rows([['Rocket', 'Organisation', 'LEO Payload (Tonnes)', 'Maiden Flight'],\n",
        "                     ['Saturn V', 'NASA', '140', '1967'],\n",
        "                     ['Space Shuttle', 'NASA', '24.4', '1981'],\n",
        "                     ['Falcon 9 FT-Expended', 'SpaceX', '22.8', '2017'],\n",
        "                     ['Ariane 5 ECA', 'ESA', '21', '2002']])\n",
        "    print('\\n-- Example 3: Position --')\n",
        "    print('Texttable Output:')\n",
        "    print(table_3.draw())\n",
        "    print('\\nLatextable Output:')\n",
        "    print(latextable.draw_latex(table_3, caption=\"A table with position.\", label=\"table:position\", position='ht'))\n",
        "\n",
        "\n",
        "def example_4():\n",
        "    # Example 4 - Booktabs\n",
        "    table_4 = Texttable()\n",
        "    table_4.set_cols_align([\"c\"] * 4)\n",
        "    table_4.set_deco(Texttable.HEADER | Texttable.VLINES | Texttable.BORDER | Texttable.HLINES)\n",
        "    table_4.add_rows([['Rank', 'Driver', 'Country', 'Wins'],\n",
        "                      ['1', 'Lewis Hamilton', 'United Kingdom', '99'],\n",
        "                      ['2', 'Michael Schumacher', 'Germany', '91'],\n",
        "                      ['3', 'Sebastian Vettel', 'Germany', '53']])\n",
        "    print('\\n-- Example 4: Booktabs --')\n",
        "    print('Texttable Output:')\n",
        "    print(table_4.draw())\n",
        "    print('\\nLatextable Output:')\n",
        "    print(latextable.draw_latex(table_4, caption=\"A table using booktabs.\", label=\"table:booktabs\", use_booktabs=True))\n",
        "\n",
        "\n",
        "if __name__ == \"__main__\":\n",
        "    run()"
      ],
      "execution_count": null,
      "outputs": [
        {
          "output_type": "stream",
          "name": "stdout",
          "text": [
            "-- Example 1: Basic --\n",
            "Texttable Output:\n",
            "+----------+-----+----------+\n",
            "|   Name   | Age | Nickname |\n",
            "+==========+=====+==========+\n",
            "| Mr       |     |          |\n",
            "| Xavier   |  32 |          |\n",
            "| Huon     |     |   Xav'   |\n",
            "+----------+-----+----------+\n",
            "| Mr       |     |          |\n",
            "| Baptiste |   1 |          |\n",
            "| Clement  |     |   Baby   |\n",
            "+----------+-----+----------+\n",
            "| Mme      |     |   Lou    |\n",
            "| Louise   |  28 |          |\n",
            "| Bourgeau |     |   Loue   |\n",
            "+----------+-----+----------+\n",
            "\n",
            "Latextable Output:\n",
            "\\begin{table}\n",
            "\t\\begin{center}\n",
            "\t\t\\begin{tabular}{|l|r|c|}\n",
            "\t\t\t\\hline\n",
            "\t\t\tName & Age & Nickname \\\\\n",
            "\t\t\t\\hline\n",
            "\t\t\tMrXavierHuon & 32 & Xav' \\\\\n",
            "\t\t\t\\hline\n",
            "\t\t\tMrBaptisteClement & 1 & Baby \\\\\n",
            "\t\t\t\\hline\n",
            "\t\t\tMmeLouiseBourgeau & 28 & Lou Loue \\\\\n",
            "\t\t\t\\hline\n",
            "\t\t\\end{tabular}\n",
            "\t\\end{center}\n",
            "\t\\caption{An example table.}\n",
            "\t\\label{table:example_table}\n",
            "\\end{table}\n",
            "\n",
            "-- Example 2: Drop Columns --\n",
            "Texttable Output:\n",
            " text     float       exp      int     auto   \n",
            "==============================================\n",
            "abcd      67.000   6.540e+02    89   128.001  \n",
            "efghijk   67.543   6.540e-01    90   1.280e+22\n",
            "lmn        0.000   5.000e-78    89   0.000    \n",
            "opqrstu    0.023   5.000e+78    92   1.280e+22\n",
            "\n",
            "Latextable Output:\n",
            "\\begin{table}\n",
            "\t\\begin{center}\n",
            "\t\t\\begin{tabular}{l r r r l}\n",
            "\t\t\ttext & float & auto \\\\\n",
            "\t\t\t\\hline\n",
            "\t\t\tabcd & 67.000 & 128.001 \\\\\n",
            "\t\t\tefghijk & 67.543 & 1.280e+22 \\\\\n",
            "\t\t\tlmn & 0.000 & 0.000 \\\\\n",
            "\t\t\topqrstu & 0.023 & 1.280e+22 \\\\\n",
            "\t\t\\end{tabular}\n",
            "\t\\end{center}\n",
            "\t\\caption{A table with dropped columns.}\n",
            "\t\\label{table:dropped_column_table}\n",
            "\\end{table}\n",
            "\n",
            "-- Example 3: Position --\n",
            "Texttable Output:\n",
            "       Rocket        | Organisation | LEO Payload (Tonnes) | Maiden Flight\n",
            "=====================+==============+======================+==============\n",
            "      Saturn V       |     NASA     |         140          |     1967     \n",
            "   Space Shuttle     |     NASA     |        24.400        |     1981     \n",
            "Falcon 9 FT-Expended |    SpaceX    |        22.800        |     2017     \n",
            "    Ariane 5 ECA     |     ESA      |          21          |     2002     \n",
            "\n",
            "Latextable Output:\n",
            "\\begin{table}[ht]\n",
            "\t\\begin{center}\n",
            "\t\t\\begin{tabular}{c|c|c|c}\n",
            "\t\t\tRocket & Organisation & LEO Payload (Tonnes) & Maiden Flight \\\\\n",
            "\t\t\t\\hline\n",
            "\t\t\tSaturn V & NASA & 140 & 1967 \\\\\n",
            "\t\t\tSpace Shuttle & NASA & 24.400 & 1981 \\\\\n",
            "\t\t\tFalcon 9 FT-Expended & SpaceX & 22.800 & 2017 \\\\\n",
            "\t\t\tAriane 5 ECA & ESA & 21 & 2002 \\\\\n",
            "\t\t\\end{tabular}\n",
            "\t\\end{center}\n",
            "\t\\caption{A table with position.}\n",
            "\t\\label{table:position}\n",
            "\\end{table}\n",
            "\n",
            "-- Example 4: Booktabs --\n",
            "Texttable Output:\n",
            "+------+--------------------+----------------+------+\n",
            "| Rank |       Driver       |    Country     | Wins |\n",
            "+======+====================+================+======+\n",
            "|  1   |   Lewis Hamilton   | United Kingdom |  99  |\n",
            "+------+--------------------+----------------+------+\n",
            "|  2   | Michael Schumacher |    Germany     |  91  |\n",
            "+------+--------------------+----------------+------+\n",
            "|  3   |  Sebastian Vettel  |    Germany     |  53  |\n",
            "+------+--------------------+----------------+------+\n",
            "\n",
            "Latextable Output:\n",
            "\\begin{table}\n",
            "\t\\begin{center}\n",
            "\t\t\\begin{tabular}{c c c c}\n",
            "\t\t\t\\toprule\n",
            "\t\t\tRank & Driver & Country & Wins \\\\\n",
            "\t\t\t\\midrule\n",
            "\t\t\t1 & Lewis Hamilton & United Kingdom & 99 \\\\\n",
            "\t\t\t2 & Michael Schumacher & Germany & 91 \\\\\n",
            "\t\t\t3 & Sebastian Vettel & Germany & 53 \\\\\n",
            "\t\t\t\\bottomrule\n",
            "\t\t\\end{tabular}\n",
            "\t\\end{center}\n",
            "\t\\caption{A table using booktabs.}\n",
            "\t\\label{table:booktabs}\n",
            "\\end{table}\n"
          ]
        }
      ]
    },
    {
      "cell_type": "markdown",
      "metadata": {
        "id": "F1D6okXv3tNK"
      },
      "source": [
        "## section 1\n",
        "### instrunction: Draw a dot plot for each data set.\n",
        "\n",
        "\n",
        "name = ['Casey Cryderman','Charlotte Moll','Johnna Sizemore','Alissa Mccarthy','William Carter','James Morehouse','Anna Chang','Amanda Harley','Linda Collins','Charles Francis','Mary Bowman','Debbie Bell','Edna Johnson','Matthew Anderson','Melinda Sylla','Amanda Sylvester','Diane Abrego','Tim Moore','Willian Sampson','Carol Soriano','Brian Harris','Robert Brady','Louis Jones','Walter Thorpe','Dale Holmes','Tiffani Wilson','Rubin Hughes','Gary Oneill','Gary Bracey','Larry Bockelman','Terri Myers','Josephine Neely','Samuel Heckard','Douglas Wells','Dennis Galvan','Annie Flores','Mark Zurcher','Summer Mcglothian','Loren Gingrich','Charles Damon','William Garcia','Douglas Guevara','Tammy Williams','Alesha Lipscomb','Sylvia Harris','Aaron Garcia','Linda Matthews','Minerva Lowe','Debbie Bittner','Milton Moniz','Carol Degraffenreid','Esta Decker','Esther Baudino','Rita Primavera','Bryan Johnson','James Gardner','Lee Doyle','Sarah Call','Belinda Gonzalez','Robert Rubinstein','Lauren Thomas','Cynthia Hamons','Gloria Foshee','Thaddeus Martin','Phyllis Conger','Joseph Yale','Fredrick Padillo','Phyllis Gibbs','Dwight Dyer','Arthur Ryan','Charles Heiman','Cheryl Rains','Kimberly Brooks','Angel Pickel','Mary Pies','Kathryn Silva','James Baldwin','Flora Moore','Kelvin Muller','Roberta Walker','Deborah Cressman','Donna Morgan','Sarah Martin','Shelly Unnasch','Jerry Knowlton','Patty Asquith','Richard Dickow','Georgia Johnson','Efrain Cote','Isaac Brown','Holly Smith','Regina Smith','Jason Ortiz','Edward Guthrie','Michelle Lanehart','William Curles','Christopher Borkowski','Maria Buell','Julie Gardner','William Hervey','Dorothy Watson','Vivian Ahn','Edward Price','Kevin Hannah','William Richard','Elizabeth Parker','Norman Klingbeil','Victoria Riley','Nancy Tam','Yolanda Carter','Benito Birkeland','Sara Magana','Lillie Williams','Velia Mcghee','Marie Long','Wendy Knapp','Michael Cornish','Annie Chance','Robert Patch','Cindy Wells','Cecile Elliott','Kimberly Schneider','Melissa Cross','Danielle Mccoy','Jack Hetrick','Ruby Barlowe','Kathleen Wyble','Erika Streller','Terry Fowler','John Yoder','Herbert Perkins','Sandra Dalton','Raul Woods','Scott Tam','Carol Scott','John Kennison','Jose Dobbs','Ida Samuels','Archie Rankin','Dianne Sanchez','Russell Guthrie','Elizabeth Taylor','Darryl Merrifield','Tony Bridges','Steven Stanley','Jose Levine','Cathy Pagan','Misty Reid','Isabelle Cortez','Barbara Scott','Edward Marek','James Boucher','Paul Greenwald','Lillian Brown','Paul Lambert','Willard Anderson','Kenneth Brooks','Kimberly Hernandez','Gabriel Auckerman','Seth Somerville','Laura Johnston','Johnnie Buck','Doris Haymes','Mike Bobo','Dennis Harrison','Melissa Horn','Mary Craig','Virginia Lund','Jeffrey Tate','Fred Hill','Shelia Hailey','Lori Caldwell','Nadia Martinez','Lucas Ingram','George Staley','James Wright','Glen Pointer','Benjamin Mcglone','Michele Keeler','Henry Turja','Kellye Ellis','Doreen Nichols','Miguel Van','Veda Barger','Margaret Wilks','Charles Ruelas','Donald Shin','Vincent Segovia','Rodrigo Robinson','Barbara Orta','Lillia Gould','Joyce Clifton','Deborah Grogan','William Beckem','Leonard Greany','Jeremiah Graham','Jon Ruffin','Nancy Crowder','Michelle Wooden','Shawn Riles']\n",
        "\n",
        "\n",
        "\n",
        "- easy\n",
        "  - num of samples 15~20\n",
        "  - case 1\n",
        "  - q: \n",
        "  - a: \n",
        "\n",
        "\n",
        "| Senator | Age |\n",
        "| :--- | ---: |\n",
        "| Mary Landrieu | 41 |\n",
        "| Mike Crapo | 47 |\n",
        "| John Cornyn | 50 |\n",
        "| Jon Tester | 50 |  \n",
        "| Mike Enzi | 52 |  \n",
        "| Barbara Boxer | 52 |\n",
        "| Tim Johnson | 50 |  \n",
        "| Dick Durbin | 52 |  \n",
        "| Sherrod Brown | 54 |\n",
        "| Jeff Sessions | 50 |  \n",
        "| Bob Menendez | 52 |  \n",
        "| John Barrasso | 54 |\n"
      ]
    },
    {
      "cell_type": "code",
      "metadata": {
        "colab": {
          "base_uri": "https://localhost:8080/"
        },
        "id": "RtOaG1yoUDKV",
        "outputId": "0d9a3855-89d9-4148-9613-b4ea0f7d1c95"
      },
      "source": [
        "import numpy as np\n",
        "rng = np.random.default_rng(12345)\n",
        "rints = rng.integers(low=0, high=10, size=3)\n",
        "print(rints)\n",
        "x = np.arange(0, 15).reshape(3, 5)\n",
        "print(x)\n"
      ],
      "execution_count": null,
      "outputs": [
        {
          "output_type": "stream",
          "name": "stdout",
          "text": [
            "[6 2 7]\n",
            "[[ 0  1  2  3  4]\n",
            " [ 5  6  7  8  9]\n",
            " [10 11 12 13 14]]\n"
          ]
        }
      ]
    },
    {
      "cell_type": "code",
      "metadata": {
        "id": "49jtXHjCvjmz"
      },
      "source": [
        "\\documentclass{article}\n",
        "\\usepackage[margin=0.5in]{geometry}\n",
        "\\usepackage{tikz}\n",
        "\n",
        "\\begin{document}\n",
        "    \\begin{center}\n",
        "\\dimendef\\mydimen=0                 % define new dimension name\n",
        "\\pgfmathsetlength{\\mydimen}{+1.2cm} % define units used in `tikzpicture`\n",
        "\\begin{tikzpicture}[x=\\mydimen, y=0.8\\mydimen] % define ratio width/height\n",
        "\\draw[latex-latex] (0,0) -- (10,0);\n",
        "\\foreach \\x [evaluate=\\x as \\xx using \\x/10]  in {0,1,...,10}\n",
        "\\draw   (\\x,2pt) -- ++ (0,-4pt) node[below, font=\\scriptsize] \n",
        "    {$\\pgfmathprintnumber[fixed,precision=1]{\\xx}$};\n",
        "%    \n",
        "\\foreach \\i in {1,2,3}\n",
        "\\fill (5,\\i) circle (2pt);\n",
        "\\end{tikzpicture}\n",
        "    \\end{center}\n",
        "\\end{document}"
      ],
      "execution_count": null,
      "outputs": []
    },
    {
      "cell_type": "code",
      "metadata": {
        "id": "YhbuwlFvxpbk"
      },
      "source": [],
      "execution_count": null,
      "outputs": []
    },
    {
      "cell_type": "code",
      "metadata": {
        "id": "X27a2XYUxqYm"
      },
      "source": [],
      "execution_count": null,
      "outputs": []
    },
    {
      "cell_type": "code",
      "metadata": {
        "id": "8vugBSUy2RGj"
      },
      "source": [
        "Age Assumed Office\n",
        "\\begin{tabular}{l|r} \n",
        "Senator & Age \\\\\n",
        "\\hline Mary Landrieu & 41 \\\\\n",
        "\\hline Mike Crapo & 47 \\\\\n",
        "\\hline John Cornyn & 50 \\\\\n",
        "\\hline\n",
        "\\end{tabular}\n",
        "\\begin{tabular}{l|rll|rll|r} \n",
        "Senator & Age & & Senator & Age & & Senator & Age \\\\\n",
        "\\hline Jon Tester & 50 & & Mike Enzi & 52 & & Barbara Boxer & 52 \\\\\n",
        "\\hline Tim Johnson & 50 & & Dick Durbin & 52 & & Sherrod Brown & 54 \\\\\n",
        "\\hline Jeff Sessions & 50 & & Bob Menendez & 52 & & John Barrasso & 54 \\\\\n",
        "\\hline\n",
        "\\end{tabular}\n",
        "\\begin{tabular}{l|r}\n",
        "\\hline Senator & Age \\\\\n",
        "\\hline Lamar Alexander & 62 \\\\\n",
        "\\hline Richard Blumenthal & 64 \\\\\n",
        "\\hline Angus King & 68 \\\\\n",
        "\\hline\n",
        "\\end{tabular}"
      ],
      "execution_count": null,
      "outputs": []
    },
    {
      "cell_type": "markdown",
      "metadata": {
        "id": "k4P_ojuY2Rre"
      },
      "source": [
        "|  Games per World Series   |||||\n",
        "|---|---|---|---|---|\n",
        "|  4 | 4  | 4  | 4  | 4  | \n",
        "| 4  | 4  | 5  | 6  | 7  | \n",
        "| 7 | 7  | 7  | 7  | 7  |"
      ]
    },
    {
      "cell_type": "code",
      "metadata": {
        "id": "oTUgTsuChUbj"
      },
      "source": [
        "Games per World Series\n",
        "$\\begin{array}{llllllll}\n",
        "4 & 4 & 4 & 4 & 5 & 5 & 5 & 6 \\\\ \n",
        "6 & 7 & 7 & 7 & 7 & 7 & 7 & 7 \\\\\n",
        "7\n",
        "\\end{array}$\n"
      ],
      "execution_count": null,
      "outputs": []
    },
    {
      "cell_type": "markdown",
      "metadata": {
        "id": "DtepB3nj9dhp"
      },
      "source": [
        "## section 2\n",
        "### Draw a stem-and-leaf plot for each data set.\n",
        "\n",
        "\n"
      ]
    },
    {
      "cell_type": "code",
      "metadata": {
        "colab": {
          "base_uri": "https://localhost:8080/",
          "height": 130
        },
        "id": "T4lL47XB0viQ",
        "outputId": "d56964c5-4646-4c27-e276-f177150f80c6"
      },
      "source": [
        "\\documentclass{article}\n",
        "\n",
        "\\usepackage{array}\n",
        "\\usepackage{caption}\n",
        "\n",
        "\\begin{document}\n",
        "\n",
        "\\begin{table}[htbp]\n",
        "    \\centering\n",
        "    \\begin{tabular}{r|l@{\\hspace{4 pt}}l@{\\hspace{4 pt}}l@{\\hspace{4 pt}}l@{\\hspace{4 pt}}l@{\\hspace{4 pt}}}\n",
        "        \\multicolumn{1}{c}{LO}  &\\rlap{12 12}\\\\ \\hline\n",
        "        4   &0\\\\\n",
        "        5   &9\\\\\n",
        "        6   &0\\\\\n",
        "        7   &2 &5 &9 &9\\\\\n",
        "        8   &4 &7\\\\\n",
        "        9   &1 &4 &4 &5 &9\\\\\n",
        "        10  &0 &1 &3 &9\\\\\n",
        "        11  &1 &9 &9\\\\\n",
        "        12  &7\\\\\n",
        "        13  &1 &4\\\\\n",
        "        14  &1\\\\ \\hline\n",
        "        \\multicolumn{1}{c}{HI}  &\\rlap{172}\n",
        "    \\end{tabular}\n",
        "    \\caption*{$ n=28\\ 1|2 $ represents £1.20}\n",
        "\\end{table}\n",
        "\n",
        "\\end{document}"
      ],
      "execution_count": null,
      "outputs": [
        {
          "output_type": "error",
          "ename": "SyntaxError",
          "evalue": "ignored",
          "traceback": [
            "\u001b[0;36m  File \u001b[0;32m\"<ipython-input-1-fd3e5c144705>\"\u001b[0;36m, line \u001b[0;32m1\u001b[0m\n\u001b[0;31m    \\documentclass{article}\u001b[0m\n\u001b[0m                           ^\u001b[0m\n\u001b[0;31mSyntaxError\u001b[0m\u001b[0;31m:\u001b[0m unexpected character after line continuation character\n"
          ]
        }
      ]
    },
    {
      "cell_type": "code",
      "metadata": {
        "colab": {
          "base_uri": "https://localhost:8080/",
          "height": 130
        },
        "id": "p6zjMkBX1sc6",
        "outputId": "9f2b10b4-1371-4352-a2de-c48479f2740e"
      },
      "source": [
        "\\documentclass{article}\n",
        "\\usepackage{caption}\n",
        "\\begin{document}\n",
        "\\begin{table}[htbp]\n",
        "    \\centering\n",
        "    \\setlength{\\tabcolsep}{4pt}\n",
        "    \\begin{tabular}{rr|llllll}\n",
        "        & \\multicolumn{5}{l}{}\\\\ \n",
        "        & \\multicolumn{1}{r}{LO}  & \\multicolumn{5}{l}{12 \\hspace{\\tabcolsep} 12} \\\\ \\cline{2-7}\n",
        "        & 4   &0\\\\\n",
        "        & 5   &9\\\\\n",
        "        & 6   &0\\\\\n",
        "        & 7   &2 &5 &9 &9\\\\\n",
        "        & 8   &4 &7\\\\\n",
        "        & 9   &1 &4 &4 &5 &9\\\\\n",
        "        & 10  &0 &1 &3 &9\\\\\n",
        "        & 11  &1 &9 &9\\\\\n",
        "        & 12  &7\\\\\n",
        "        & 13  &1 &4\\\\\n",
        "        & 14  &1\\\\ \\cline{2-7}\n",
        "        & \\multicolumn{1}{r}{HI}  & \\multicolumn{6}{l}{172} \\\\[0.25cm]\n",
        "        \\multicolumn{2}{r|}{n=28 1} & \\multicolumn{6}{l}{2  represents £1.20}\n",
        "    \\end{tabular}\n",
        "\\end{table}\n",
        "\n",
        "\\end{document}"
      ],
      "execution_count": null,
      "outputs": [
        {
          "output_type": "error",
          "ename": "SyntaxError",
          "evalue": "ignored",
          "traceback": [
            "\u001b[0;36m  File \u001b[0;32m\"<ipython-input-2-053a8c2fce72>\"\u001b[0;36m, line \u001b[0;32m1\u001b[0m\n\u001b[0;31m    \\documentclass{article}\u001b[0m\n\u001b[0m                           ^\u001b[0m\n\u001b[0;31mSyntaxError\u001b[0m\u001b[0;31m:\u001b[0m unexpected character after line continuation character\n"
          ]
        }
      ]
    },
    {
      "cell_type": "code",
      "metadata": {
        "id": "dK3A81J82ZIu"
      },
      "source": [
        "\\begin{table}[htbp]\n",
        "\\centering\n",
        "\\caption{Stem Plot of sit ups, Key: $1 | 1= 1.1$}\n",
        "\\begin{tabular}{r|l@{\\hspace{4 pt}}l@{\\hspace{4 pt}}l@{\\hspace{4 pt}}l@{\\hspace{4 pt}}l@{\\hspace{4 pt}}l@{\\hspace{4 pt}}l@{\\hspace{4 pt}}l@{\\hspace{4 pt}}l@{\\hspace{4 pt}}}\n",
        "   Stem & Leaf     \\\\\n",
        "    \\hline\n",
        "    1     & 1 1 2 3 3 4 4\\\\    \n",
        "    1     & 5 6 6 8\\\\    \n",
        "    2     & 0 3\\\\    \n",
        "    2     & 7 8\\\\    \n",
        "    3     &\\\\    \n",
        "    3     & 5 7 8 8\\\\\n",
        "    4     & 0 0 0 1 2 4 4 4\\\\\n",
        "    4     & 5 5 6 7 7 7 8 8 9 \\\\\n",
        "    \\end{tabular}\n",
        "  \\label{tab:addlabel}\n",
        "\n",
        "\\end{table}"
      ],
      "execution_count": null,
      "outputs": []
    },
    {
      "cell_type": "markdown",
      "metadata": {
        "id": "DhHLKNN30vPe"
      },
      "source": [
        "## section 3\n",
        "### instruction : Draw a box-and-whisker plot for each data set.\n"
      ]
    },
    {
      "cell_type": "code",
      "metadata": {
        "id": "F5RPvDid9eX5"
      },
      "source": [
        "\\documentclass{article}\n",
        "\\usepackage{pgfplots}\n",
        "\\usepgfplotslibrary{statistics}\n",
        "\\begin{document}\n",
        "\n",
        "\\begin{tikzpicture}\n",
        "  \\begin{axis} [\n",
        "        title=Scenario 1,\n",
        "        height=6.0cm, width=8.0cm,\n",
        "        xmin=6, xmax=20, xtick={6,8,...,20},\n",
        "    ytick={1,2,3},\n",
        "    yticklabels={Mon, Tue, Wed},\n",
        "        legend style={at={(0.5,-0.2)}, anchor=north, legend columns=-1},\n",
        "    ymin=0,ymax=4,\n",
        "    /pgfplots/boxplot/box extend=0.3\n",
        "    ]\n",
        "    \\addplot+ [\n",
        "    boxplot prepared={\n",
        "      upper quartile=15,\n",
        "      lower quartile=8,\n",
        "      upper whisker=19,\n",
        "      lower whisker=7,\n",
        "      draw position=1.2\n",
        "    },\n",
        "    ] coordinates {};\n",
        "    \\addplot+ [\n",
        "    boxplot prepared={\n",
        "      upper quartile=17,\n",
        "      lower quartile=10,\n",
        "      upper whisker=19,\n",
        "      lower whisker=7,\n",
        "      draw position=0.8\n",
        "    },\n",
        "    ] coordinates {};\n",
        "  \\end{axis}\n",
        "\\end{tikzpicture}\n",
        "\n",
        "\\end{document}"
      ],
      "execution_count": null,
      "outputs": []
    },
    {
      "cell_type": "code",
      "metadata": {
        "id": "li7j_C5Z9euF"
      },
      "source": [
        "\\documentclass[tikz,border=3.14mm]{standalone}\n",
        "\\usepackage{pgfplotstable}\n",
        "\\pgfplotsset{compat=1.16}\n",
        "\\usepgfplotslibrary{statistics}\n",
        "\\pgfplotstableread{%\n",
        "Author min avg max mediana deviation\n",
        "ClercA 100.1900 131.5194 180.2100 130.2000 16.0537\n",
        "ClercB 100.1900 131.9290 190.2000 130.2000 15.6576\n",
        "ClercC 100.1900 145.2007 210.2000 140.2100 17.3981\n",
        "ClercD 100.1900 113.8061 150.2100 110.2000 10.8342\n",
        "ClercE 100.1900 131.7290 180.2000 130.2000 15.7357\n",
        "EberhartA 100.1900 129.8890 170.2100 130.2000 15.8132\n",
        "EberhartB 100.1900 127.4685 170.2000 130.1900 14.4167\n",
        "EberhartC 100.2000 142.6508 190.2100 140.2000 16.6241\n",
        "EberhartD 100.1800 113.9665 150.2100 110.2000 11.2164\n",
        "EberhartE 100.1900 129.6588 190.2100 130.2000 15.0647\n",
        "XinA 100.1900 126.8997 170.2000 130.2000 14.3637\n",
        "XinB 100.1900 124.3386 170.2000 130.1900 13.5221\n",
        "XinC 100.1900 137.3308 190.2000 130.2100 16.0478\n",
        "XinD 100.1800 113.8771 160.2000 110.2000 11.1794\n",
        "XinE 100.1800 126.7993 180.2100 130.1900 14.4938\n",
        "}\\datatable\n",
        "\n",
        "\\begin{document}\n",
        "\\begin{tikzpicture}\n",
        "\\pgfplotstablegetrowsof{\\datatable}\n",
        "\\pgfmathtruncatemacro{\\rownumber}{\\pgfplotsretval-1}\n",
        "\\begin{axis}[boxplot/draw direction=x,yticklabels={ClercA,ClercB,ClercC,ClercD,ClercE,\n",
        "                EberhartA, EberhartB, EberhartC, EberhartD, EberhartE,\n",
        "                XinA, XinB, XinC, XinD, XinE},ytick={1,...,\\the\\numexpr\\rownumber+1},height=12cm\n",
        "                ]\n",
        "\\typeout{\\rownumber}\n",
        "\\pgfplotsinvokeforeach{0,...,\\rownumber}{\n",
        " \\pgfplotstablegetelem{#1}{min}\\of\\datatable\n",
        " \\edef\\mymin{\\pgfplotsretval}\n",
        " \\pgfplotstablegetelem{#1}{avg}\\of\\datatable\n",
        " \\edef\\myavg{\\pgfplotsretval}\n",
        " \\pgfplotstablegetelem{#1}{max}\\of\\datatable\n",
        " \\edef\\mymax{\\pgfplotsretval}\n",
        " \\pgfplotstablegetelem{#1}{mediana}\\of\\datatable\n",
        " \\edef\\mymediana{\\pgfplotsretval}\n",
        " \\pgfplotstablegetelem{#1}{deviation}\\of\\datatable\n",
        " \\edef\\mydeviation{\\pgfplotsretval}\n",
        " \\typeout{\\mymin,\\mymax,\\myavg,\\mymediana,\\mydeviation}\n",
        " \\pgfmathsetmacro{\\mylowerq}{\\mymediana-\\mydeviation}\n",
        " \\pgfmathsetmacro{\\myupperq}{\\mymediana+\\mydeviation}\n",
        " \\edef\\temp{\\noexpand\\addplot+[\n",
        "    boxplot prepared={\n",
        "     lower whisker=\\mymin,\n",
        "     upper whisker=\\mymax,\n",
        "     lower quartile=\\mylowerq,\n",
        "     upper quartile=\\myupperq,\n",
        "     median=\\myavg\n",
        "  }\n",
        "  ]coordinates {};}\n",
        " \\temp\n",
        "}\n",
        "\\end{axis}\n",
        "\\end{tikzpicture}\n",
        "\\end{document}"
      ],
      "execution_count": null,
      "outputs": []
    },
    {
      "cell_type": "markdown",
      "metadata": {
        "id": "cutXamXy9d69"
      },
      "source": []
    },
    {
      "cell_type": "markdown",
      "metadata": {
        "id": "JDXYupKYq2Ky"
      },
      "source": []
    },
    {
      "cell_type": "code",
      "metadata": {
        "colab": {
          "base_uri": "https://localhost:8080/",
          "height": 130
        },
        "id": "6We3QF6Qq1Fe",
        "outputId": "68bd97e1-bc5a-49cd-fba5-45ed66713677"
      },
      "source": [
        "% histogram\n",
        "\n",
        "\\usepackage{pgfplots}\n",
        "\n",
        "    \\begin{document}\n",
        "%---------------------------------------------------------------%\n",
        "\\begin{tikzpicture}\n",
        "\\begin{axis}[\n",
        "    ymin=0, ymax=55,\n",
        "    minor y tick num = 3,\n",
        "    area style,\n",
        "    ]\n",
        "\\addplot+[ybar interval,mark=no] plot coordinates { (0, 5) (5, 35) (10, 50) (15, 30) (20, 15) (25, 0) };\n",
        "\\end{axis}\n",
        "\\end{tikzpicture}"
      ],
      "execution_count": null,
      "outputs": [
        {
          "output_type": "error",
          "ename": "SyntaxError",
          "evalue": "ignored",
          "traceback": [
            "\u001b[0;36m  File \u001b[0;32m\"<ipython-input-1-b7f8c077c8b1>\"\u001b[0;36m, line \u001b[0;32m3\u001b[0m\n\u001b[0;31m    \\usepackage{pgfplots}\u001b[0m\n\u001b[0m                         ^\u001b[0m\n\u001b[0;31mSyntaxError\u001b[0m\u001b[0;31m:\u001b[0m unexpected character after line continuation character\n"
          ]
        }
      ]
    },
    {
      "cell_type": "code",
      "metadata": {
        "id": "03x1fv8Bq4yG"
      },
      "source": [
        "\\usepackage{tikz}\n",
        "\\usepackage{pgfplots}\n",
        "\\usepgfplotslibrary{statistics}\n",
        "\\pgfplotsset{compat=1.12}\n",
        "\n",
        "\\begin{document}\n",
        "\\begin{tikzpicture}\n",
        "    \\begin{axis}[ybar]\n",
        "        \\addplot+[hist={bins=3}]\n",
        "        table[row sep=\\\\,y index=0] {\n",
        "            data\\\\\n",
        "            1\\\\ 2\\\\ 1\\\\ 5\\\\ 4\\\\ 10\\\\\n",
        "            7\\\\ 10\\\\ 9\\\\ 8\\\\ 9\\\\ 9\\\\\n",
        "        };\n",
        "    \\end{axis}\n",
        "\\end{tikzpicture}\n",
        "\\begin{tikzpicture}\n",
        "    \\begin{axis}[ybar]\n",
        "        \\addplot+[hist={bins=3}]\n",
        "        table[row sep=\\\\,y index=0] {\n",
        "            data\\\\\n",
        "            %1\\\\ 2\\\\ 1\\\\ 5\\\\ 4\\\\ 10\\\\\n",
        "            7\\\\ 10\\\\ 9\\\\ 8\\\\ 9\\\\ 9\\\\\n",
        "        };\n",
        "    \\end{axis}\n",
        "\\end{tikzpicture}"
      ],
      "execution_count": null,
      "outputs": []
    },
    {
      "cell_type": "markdown",
      "metadata": {
        "id": "c_L8yTDq90L_"
      },
      "source": [
        "## Center and Spread of Data"
      ]
    },
    {
      "cell_type": "markdown",
      "metadata": {
        "id": "wlpL6MXS96ip"
      },
      "source": [
        "### Section 1\n",
        "#### instruction Find the mode, median, mean, range, lower quartile, upper quartile, interquartile range, and mean absolute deviation for each data set.\n",
        "\n",
        "\n",
        "[link text](https://realpython.com/python-statistics/)"
      ]
    },
    {
      "cell_type": "code",
      "metadata": {
        "id": "wPlX8OES902H",
        "colab": {
          "base_uri": "https://localhost:8080/"
        },
        "outputId": "03f189c5-79e8-405d-895c-fb7e40d90afe"
      },
      "source": [
        "import numpy as np\n",
        "\n",
        "# dataset = [1,2,3,4,5,6,7,7,7,8,9,9,10]\n",
        "dataset = [6.5,7,7.5,8,8,8,9,10,10.5]\n",
        "# max\n",
        "max = np.amax(dataset)\n",
        "print(\"max = \", max)\n",
        "# min\n",
        "min = np.amin(dataset)\n",
        "print(\"min = \", min)\n",
        "# mean\n",
        "mean = np.mean(dataset)\n",
        "print(\"mean = \", mean)\n",
        "# range\n",
        "range = max - min\n",
        "print(\"range = \", range)\n",
        "# std\n",
        "std = np.std(dataset)\n",
        "print(\"std = \", std)\n",
        "# First quartile (Q1).   Q1 and Q3 seems to be off \n",
        "Q1 = np.percentile(dataset, 25, interpolation = 'midpoint')\n",
        "print(\"Q1 = \", Q1)\n",
        "# Third quartile (Q3).   Q1 and Q3 seems to be off \n",
        "Q3 = np.percentile(dataset, 75, interpolation = 'midpoint')\n",
        "print(\"Q3 = \", Q3)\n",
        "# Interquaritle range (IQR)\n",
        "IQR = Q3 - Q1\n",
        "print(\"IQR = \",IQR)\n"
      ],
      "execution_count": null,
      "outputs": [
        {
          "output_type": "stream",
          "name": "stdout",
          "text": [
            "max =  10.5\n",
            "min =  6.5\n",
            "mean =  8.277777777777779\n",
            "range =  4.0\n",
            "std =  1.2496913199113326\n",
            "Q1 =  7.5\n",
            "Q3 =  9.0\n",
            "IQR =  1.5\n"
          ]
        }
      ]
    },
    {
      "cell_type": "code",
      "metadata": {
        "id": "wsbIRN6UKbM8",
        "colab": {
          "base_uri": "https://localhost:8080/",
          "height": 1000
        },
        "outputId": "3b9985c7-f252-4b9e-ec83-1a268b3f0e45"
      },
      "source": [
        "# Data Visualization using Python\n",
        "# Bar Graph\n",
        "\n",
        "import numpy as np\n",
        "import matplotlib.pyplot as plt\n",
        "\n",
        "N = 8\n",
        "x = np.array([1,2,3,4,5,6,7,9])\n",
        "xx = np.array(['a','b','c','d','e','f','g','u'])\n",
        "y = np.random.rand(N)*10\n",
        "\n",
        "# a normal bar plot with default features\n",
        "plt.bar(x, y)\n",
        "plt.xlabel('Numbers')\n",
        "plt.ylabel('Values')\n",
        "plt.title('Normal bar Plot')\n",
        "plt.show()\n",
        "\n",
        "# a bar plot with green collour\n",
        "plt.figure()\n",
        "plt.bar(x, y, color='g')\n",
        "plt.xlabel('Numbers')\n",
        "plt.ylabel('Values')\n",
        "plt.title('Different Colour')\n",
        "plt.show()\n",
        "\n",
        "# a bar plot with string points\n",
        "plt.figure()\n",
        "plt.bar(xx, y, color='g')\n",
        "plt.xlabel('Numbers')\n",
        "plt.ylabel('Values')\n",
        "plt.title('Bar Graph with String')\n",
        "plt.show()\n",
        "\n",
        "# a combined bar Plot\n",
        "plt.figure()\n",
        "plt.bar(np.arange(26), np.random.randint(0,50,26), alpha = 0.6)\n",
        "plt.xlabel('Numbers')\n",
        "plt.ylabel('Values')\n",
        "plt.title('Random Plot')\n",
        "plt.show()"
      ],
      "execution_count": null,
      "outputs": [
        {
          "output_type": "display_data",
          "data": {
            "image/png": "[encoded data removed]",
            "text/plain": [
              "<Figure size 432x288 with 1 Axes>"
            ]
          },
          "metadata": {
            "needs_background": "light"
          }
        },
        {
          "output_type": "display_data",
          "data": {
            "image/png": "[encoded data removed]",
            "text/plain": [
              "<Figure size 432x288 with 1 Axes>"
            ]
          },
          "metadata": {
            "needs_background": "light"
          }
        },
        {
          "output_type": "display_data",
          "data": {
            "image/png": "[encoded data removed]",
            "text/plain": [
              "<Figure size 432x288 with 1 Axes>"
            ]
          },
          "metadata": {
            "needs_background": "light"
          }
        },
        {
          "output_type": "display_data",
          "data": {
            "image/png": "[encoded data removed]",
            "text/plain": [
              "<Figure size 432x288 with 1 Axes>"
            ]
          },
          "metadata": {
            "needs_background": "light"
          }
        }
      ]
    },
    {
      "cell_type": "markdown",
      "metadata": {
        "id": "jv2yKorLO_mF"
      },
      "source": [
        "## Scatter Plots\n",
        "\n",
        "\n",
        "\n",
        "\n"
      ]
    },
    {
      "cell_type": "markdown",
      "metadata": {
        "id": "B6jWEznKPKsQ"
      },
      "source": [
        "### section 1\n",
        "#### State if there appears to be a positive correlation, negative correlation, or no correlation. When there is a correlation, identify the relationship as linear or nonlinear."
      ]
    },
    {
      "cell_type": "code",
      "metadata": {
        "id": "OCB7TwJ1PLKD"
      },
      "source": [],
      "execution_count": null,
      "outputs": []
    },
    {
      "cell_type": "markdown",
      "metadata": {
        "id": "359i7hPRPMeH"
      },
      "source": [
        "### section 2\n",
        "#### Construct a scatter plot"
      ]
    },
    {
      "cell_type": "code",
      "metadata": {
        "id": "ofpjkVqwPQ21"
      },
      "source": [],
      "execution_count": null,
      "outputs": []
    },
    {
      "cell_type": "markdown",
      "metadata": {
        "id": "GYhyWJw3PQpY"
      },
      "source": [
        "## section 3\n",
        "### Construct a scatter plot. Find the slope-intercept form of the equation of the line that best fits the data\n"
      ]
    },
    {
      "cell_type": "code",
      "metadata": {
        "id": "8wX_NFU1PWfC"
      },
      "source": [],
      "execution_count": null,
      "outputs": []
    }
  ]
}