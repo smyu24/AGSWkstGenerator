{
  "nbformat": 4,
  "nbformat_minor": 0,
  "metadata": {
    "colab": {
      "provenance": []
    },
    "kernelspec": {
      "name": "python3",
      "display_name": "Python 3"
    },
    "language_info": {
      "name": "python"
    }
  },
  "cells": [
    {
      "cell_type": "markdown",
      "metadata": {
        "id": "_vC0H4pNbxIy"
      },
      "source": [
        "## Systems of EQ"
      ]
    },
    {
      "cell_type": "markdown",
      "metadata": {
        "id": "gvr1ZrA-Vg79"
      },
      "source": [
        "## Solving Systems of Equations by Graphing\n",
        "### Instruction : Solve each system by graphing.\n",
        "\n",
        "\n",
        "---\n",
        "- intA [ -5,5 ]\n",
        "- intB [ -5,5 ]\n",
        "- intC [ -10,-9,-8,-7,-6,-5,-4,-3,-2,-1,0,1,2,3,4,5,6,7,8,9,10 ]\n",
        "- intD [ -10,-9,-8,-7,-6,-5,-4,-3,-2,-1,0,1,2,3,4,5,6,7,8,9,10 ]\n",
        "- slopeA [ -4,-3,-2,-1,1,2,3,4 ] \n",
        "- slopeB [ -4,-3,-2,-1,1,2,3,4 ]\n",
        "- slopeC [ -6, 6 ] \n",
        "- slopeD [ -6, 6 ] \n",
        "---\n",
        "\n",
        "randomize the intersection point : ( intA, intB )\n",
        "and sympy following point slope form\n",
        "\n",
        "- y_1 = (slopeA / slopeB ) ( x - intA ) - ( intB )\n",
        "- y_2 = (slopeA / slopeB ) ( x - intA ) - ( intB )\n",
        "\n",
        "- easy \n",
        "  - problem \n",
        "  - y_1 = (slopeA) ( x - intA ) - ( intB )\n",
        "  - y_2 = (slopeB) ( x - intA ) - ( intB )\n",
        "  - answer : (intA,intB)\n",
        "- medium\n",
        "  - problem \n",
        "  - y_1 = $\\frac{slopeA}{slopeB}$ ( x - intA ) - ( intB )\n",
        "  - y_2 = $\\frac{slopeA}{slopeB}$ ( x - intA ) - ( intB )\n",
        "  - answer : (intA,intB)\n",
        "- hard\n",
        "  - y_1 = $\\frac{slopeC}{slopeD}$ ( x - intA ) - ( intB )\n",
        "  - y_2 = $\\frac{slopeC}{slopeD}$ ( x - intA ) - ( intB )\n",
        "  - answer : (intA,intB)"
      ]
    },
    {
      "cell_type": "code",
      "metadata": {
        "id": "b9RfPgVwVgd-"
      },
      "source": [
        "import random as rand\n",
        "\n",
        "def IntersectionGenerator(min = 5 , max = 5):\n",
        "  return rand.randint(min,max) , rand.randint(man,max)\n",
        "\n",
        "\n",
        "\n",
        "\n"
      ],
      "execution_count": null,
      "outputs": []
    },
    {
      "cell_type": "markdown",
      "metadata": {
        "id": "-WeWo37BVhfP"
      },
      "source": [
        "## Solving Systems of Equations by Substitution \n",
        "### Instruction : Solve each system by substitution.\n",
        "\n",
        "\n",
        "---\n",
        "- intA [ -5,5 ]\n",
        "- intB [ -5,5 ]\n",
        "- intC [ -10,-9,-8,-7,-6,-5,-4,-3,-2,-1,0,1,2,3,4,5,6,7,8,9,10 ]\n",
        "- intD [ -10,-9,-8,-7,-6,-5,-4,-3,-2,-1,0,1,2,3,4,5,6,7,8,9,10 ]\n",
        "- yintA [ 1,2,3,4 ] \n",
        "- yintB [ 1,2,3,4,5,6,7,8,9 ]\n",
        "- slopeC [ -6, 6 ] \n",
        "- slopeD [ -6, 6 ] \n",
        "---\n",
        "\n",
        "randomize the intersection point : ( intA, intB )\n",
        "\n",
        "- easy \n",
        "  - case1\n",
        "  - x = intA\n",
        "  - y = intB\n",
        "  - answer : (intA,intB)\n",
        "- medium\n",
        "  - case 1\n",
        "  - problem \n",
        "  - y = intA x - yintA\n",
        "  - y = intC\n",
        "  - answer : ( , )\n",
        "  - case 2\n",
        "  - problem \n",
        "  - y = intA x + yintA\n",
        "  - y = intC x \n",
        "  - answer : ( , )\n",
        "- hard\n",
        "  - y_1 = $\\frac{slopeC}{slopeD}$ ( x - intA ) - ( intB )\n",
        "  - y_2 = $\\frac{slopeC}{slopeD}$ ( x - intA ) - ( intB )\n",
        "  - answer : (intA,intB)"
      ]
    },
    {
      "cell_type": "code",
      "metadata": {
        "id": "G6_dTGzSR8AA"
      },
      "source": [],
      "execution_count": null,
      "outputs": []
    },
    {
      "cell_type": "markdown",
      "metadata": {
        "id": "ZbW2UCqUg9Rx"
      },
      "source": [
        "## Systems of Equations Word Problems\n",
        "### Instruction : Setup the system and solve.\n",
        "\n",
        "---\n",
        "- intA [ -5,5 ]\n",
        "- intB [ -5,5 ]\n",
        "- intC [ -10,-9,-8,-7,-6,-5,-4,-3,-2,-1,0,1,2,3,4,5,6,7,8,9,10 ]\n",
        "- intD [ -10,-9,-8,-7,-6,-5,-4,-3,-2,-1,0,1,2,3,4,5,6,7,8,9,10 ]\n",
        "- yintA [ 1,2,3,4 ] \n",
        "- yintB [ 1,2,3,4,5,6,7,8,9 ]\n",
        "- slopeC [ -6, 6 ] \n",
        "- slopeD [ -6, 6 ] \n",
        "---\n",
        "\n",
        "randomize the intersection point : ( intA, intB )"
      ]
    },
    {
      "cell_type": "code",
      "metadata": {
        "id": "YeUq4qjqRzWW"
      },
      "source": [],
      "execution_count": null,
      "outputs": []
    }
  ]
}